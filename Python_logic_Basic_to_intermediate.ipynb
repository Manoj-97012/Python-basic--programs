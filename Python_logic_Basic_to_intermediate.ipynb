{
  "cells": [
    {
      "cell_type": "markdown",
      "metadata": {
        "id": "view-in-github",
        "colab_type": "text"
      },
      "source": [
        "<a href=\"https://colab.research.google.com/github/Manoj-97012/Python-basic--programs/blob/main/Python_logic_Basic_to_intermediate.ipynb\" target=\"_parent\"><img src=\"https://colab.research.google.com/assets/colab-badge.svg\" alt=\"Open In Colab\"/></a>"
      ]
    },
    {
      "cell_type": "code",
      "execution_count": null,
      "metadata": {
        "id": "o3_QGnZN08C7"
      },
      "outputs": [],
      "source": [
        "# Basic numbers and conditions\n",
        "#1.Even or Odd\n",
        "n = int(input('Enter a number'))\n",
        "if n % 2 == 0:\n",
        "        print('even')\n",
        "else:\n",
        "        print('odd')"
      ]
    },
    {
      "cell_type": "code",
      "execution_count": null,
      "metadata": {
        "id": "IgETmMf4Vai3"
      },
      "outputs": [],
      "source": [
        "#2.Positive or Negative\n",
        "n = int(input('Enter a number:'))\n",
        "if n > 0:\n",
        "    print('postive')\n",
        "elif n < 0:\n",
        "    print('negative')\n",
        "else :\n",
        "    print('Zero')"
      ]
    },
    {
      "cell_type": "code",
      "execution_count": null,
      "metadata": {
        "id": "VP_VoT-VWht3"
      },
      "outputs": [],
      "source": [
        "#3.Greatest of 3 Numbers\n",
        "a = int(input('Enter a number:'))\n",
        "b = int(input('Enter b number:'))\n",
        "c = int(input('Enter c number:'))\n",
        "\n",
        "if a >=b and a >=c:\n",
        "    print('this greatest number:', a)\n",
        "elif b >=a and  b>=c:\n",
        "    print('this greatest number:', b)\n",
        "else:\n",
        "    print('this greatest number:',c)"
      ]
    },
    {
      "cell_type": "code",
      "execution_count": null,
      "metadata": {
        "id": "82kKNhOSXp4G"
      },
      "outputs": [],
      "source": [
        "#4. Leap Year Check\n",
        "num = int(input('Enter a year :'))\n",
        "\n",
        "if (num % 4 == 0 and num % 100 !=0) or (num % 400 ==0):\n",
        "    print('this a leap year')\n",
        "else:\n",
        "    print('not a leap year')"
      ]
    },
    {
      "cell_type": "code",
      "execution_count": null,
      "metadata": {
        "id": "8eVYXGrdI8X9"
      },
      "outputs": [],
      "source": [
        "#5. Print 1-100\n",
        "for i in range(0,101):\n",
        "  print(i)"
      ]
    },
    {
      "cell_type": "code",
      "execution_count": null,
      "metadata": {
        "id": "rHuU9iVgI29g"
      },
      "outputs": [],
      "source": [
        "#Number Triangle Pattern\n",
        "n = 5\n",
        "for i in range(1, n+1):\n",
        "  for j in range(1, n -i +1):\n",
        "    print(\" \", end=\" \")\n",
        "  for k in range(1, 2 * i):\n",
        "    print(\"*\", end=\" \")\n",
        "  print()\n"
      ]
    },
    {
      "cell_type": "code",
      "execution_count": null,
      "metadata": {
        "id": "rO5m4O9GKWk3"
      },
      "outputs": [],
      "source": [
        "#Star Diamond Pattern\n"
      ]
    },
    {
      "cell_type": "code",
      "execution_count": null,
      "metadata": {
        "id": "OTR7oOjcTmEC"
      },
      "outputs": [],
      "source": [
        "#Multiplication Table\n",
        "n = int(input('Enter a number:'))\n",
        "for i in range(1, 11):\n",
        "  print(f\"{n} * {i} = {n * i}\")\n",
        "  # 2 * 1 = 2"
      ]
    },
    {
      "cell_type": "code",
      "execution_count": null,
      "metadata": {
        "id": "-sbOQuH5Uw2x",
        "outputId": "5c49d7ac-ac27-4152-d861-77bc35acf149",
        "colab": {
          "base_uri": "https://localhost:8080/"
        }
      },
      "outputs": [
        {
          "output_type": "stream",
          "name": "stdout",
          "text": [
            "enter a string:Man\n",
            "naM\n"
          ]
        }
      ],
      "source": [
        "# string basics\n",
        "# 1. Reverse a String\n",
        "str = input(\"enter a string:\")\n",
        "print(str[::-1])"
      ]
    },
    {
      "cell_type": "code",
      "execution_count": null,
      "metadata": {
        "id": "P4YbaQswVjJh"
      },
      "outputs": [],
      "source": [
        "# other way\n",
        "str = input('enter a string:')\n",
        "rev = ' '\n",
        "for i in str:\n",
        "  rev = i + rev   # 1.M + '' = M, 2. a + 'M' = aM\n",
        "print(rev)"
      ]
    },
    {
      "cell_type": "code",
      "execution_count": null,
      "metadata": {
        "id": "OB-8h6tjXwBs"
      },
      "outputs": [],
      "source": [
        "#3.Check Palindrome String\n",
        "str = input('enter a string:')\n",
        "if str == str[::-1]:\n",
        "  print('palindrome')\n",
        "else:\n",
        "  print('not palindrome')"
      ]
    },
    {
      "cell_type": "code",
      "execution_count": null,
      "metadata": {
        "id": "fLOyXHRYXgWO"
      },
      "outputs": [],
      "source": [
        "# other method\n",
        "def fun_1(str):\n",
        "    return s == s[::-1]\n",
        "str = 'MOM'\n",
        "res = fun_1\n",
        "if res:\n",
        "    print('palindrome')\n",
        "else:\n",
        "    print('not palindrome')"
      ]
    },
    {
      "cell_type": "code",
      "execution_count": null,
      "metadata": {
        "id": "wwLWZKpGZu9L",
        "outputId": "a35d13c3-435f-46a8-bda2-a03094fed4b5",
        "colab": {
          "base_uri": "https://localhost:8080/"
        }
      },
      "outputs": [
        {
          "output_type": "stream",
          "name": "stdout",
          "text": [
            "Number of words: 4\n"
          ]
        }
      ],
      "source": [
        "#Word Count in Sentence\n",
        "sentence = \"Manojkumar is good boy\"\n",
        "words = sentence.split()\n",
        "word_count = len(words)\n",
        "\n",
        "print(\"Number of words:\", word_count)"
      ]
    },
    {
      "cell_type": "code",
      "execution_count": null,
      "metadata": {
        "id": "5dBRbZoL_x2l",
        "outputId": "c2a857a6-3436-4852-d4f0-1a459385f55d",
        "colab": {
          "base_uri": "https://localhost:8080/"
        }
      },
      "outputs": [
        {
          "output_type": "stream",
          "name": "stdout",
          "text": [
            "Enter a string:silent\n",
            "Enter a string:listen\n",
            "Anagrams\n"
          ]
        }
      ],
      "source": [
        "# Anagram Check\n",
        "str1 = input(\"Enter a string:\")\n",
        "str2 = input(\"Enter a string:\")\n",
        "if len(str1) != len(str2):\n",
        "  print(\"Not anagrams\")\n",
        "elif sorted(str1) == sorted(str2):\n",
        "  print(\"Anagrams\")\n",
        "else:\n",
        "  print(\"Not anagrams\")"
      ]
    },
    {
      "cell_type": "code",
      "execution_count": null,
      "metadata": {
        "id": "fxIFs7LUKm-d"
      },
      "outputs": [],
      "source": [
        "#Character Frequency\n",
        "str = input(\"Enter a string:\")\n",
        "\n",
        "l = list(str)\n",
        "freq =[l.count(ele) for (ele) in l]\n",
        "\n",
        "#print(freq)\n",
        "\n",
        "d = dict(zip(l,freq))\n",
        "print(d)"
      ]
    },
    {
      "cell_type": "code",
      "source": [
        "# sum of digit in a number\n",
        "num = int(input(\"Enter a number:\"))\n",
        "total = 0\n",
        "\n",
        "while num > 0:\n",
        "    digit = num % 10\n",
        "    total += digit\n",
        "    num //=10\n",
        "print(total)"
      ],
      "metadata": {
        "id": "5-iez6wFV0fp"
      },
      "execution_count": null,
      "outputs": []
    },
    {
      "cell_type": "code",
      "source": [
        "# find max and min in a list\n",
        "numbers = [99,20,30,80,99,101,10,1]\n",
        "\n",
        "largest_number= numbers[0]\n",
        "smallest_number= numbers[0]\n",
        "\n",
        "for num in numbers:\n",
        "    if num > largest_number:\n",
        "        largest_number = num\n",
        "    if num < smallest_number:\n",
        "        smallest_number = num\n",
        "\n",
        "print(largest_number)\n",
        "print(smallest_number)\n",
        "\n"
      ],
      "metadata": {
        "id": "XREppFXLV_2T"
      },
      "execution_count": null,
      "outputs": []
    },
    {
      "cell_type": "code",
      "source": [
        "# count words in sentence\n",
        "sentence = \"python is good langauage\"\n",
        "words = sentence.split()\n",
        "print(len(words))\n",
        "\n"
      ],
      "metadata": {
        "id": "e2vmPRqrdYNi"
      },
      "execution_count": null,
      "outputs": []
    },
    {
      "cell_type": "code",
      "source": [
        "# Find factorial of a number\n",
        "\n",
        "num = int(input(\"Enter a number:\"))\n",
        "fact = 1\n",
        "\n",
        "for i in range(1, num+1):\n",
        "    fact *= i\n",
        "\n",
        "print(fact)"
      ],
      "metadata": {
        "id": "MlaX8fDygHfy"
      },
      "execution_count": null,
      "outputs": []
    },
    {
      "cell_type": "code",
      "source": [
        "# check if number is prime\n",
        "\n"
      ],
      "metadata": {
        "id": "S_AhMlWJVlgU"
      },
      "execution_count": null,
      "outputs": []
    },
    {
      "cell_type": "code",
      "source": [
        "# Swap two variables without temp variable\n",
        "\n",
        "a = int(input(\"Enter a number:\"))\n",
        "b = int(input(\"Enter a number:\"))\n",
        "\n",
        "print(\"Before swapping:\",a)\n",
        "print(\"Before swapping:\",b)\n",
        "a,b = b,a\n",
        "print(\"After swapping:\",a)\n",
        "print(\"After swapping:\",b)\n"
      ],
      "metadata": {
        "id": "h2ZxdVBgXj4Y"
      },
      "execution_count": null,
      "outputs": []
    },
    {
      "cell_type": "code",
      "source": [
        "# fibonacci series\n",
        "# 0 1 1 2 3 5 8 13 21 34\n",
        "n1=0\n",
        "n2=1\n",
        "\n",
        "print(n1)\n",
        "print(n2)\n",
        "for i in range(2,10):\n",
        "  sum=n1+n2\n",
        "  print(sum)\n",
        "  n1=n2\n",
        "  n2=sum"
      ],
      "metadata": {
        "id": "URfTlz-VTSsb",
        "outputId": "74e70835-055e-4faa-ff82-f120ce04cc86",
        "colab": {
          "base_uri": "https://localhost:8080/"
        }
      },
      "execution_count": null,
      "outputs": [
        {
          "output_type": "stream",
          "name": "stdout",
          "text": [
            "0\n",
            "1\n",
            "1\n",
            "2\n",
            "3\n",
            "5\n",
            "8\n",
            "13\n",
            "21\n",
            "34\n"
          ]
        }
      ]
    },
    {
      "cell_type": "code",
      "source": [
        "# Find the second largest numbers\n",
        "L1 = [10,20,30,40,90]\n",
        "\n",
        "first = second = float('-inf')\n",
        "\n",
        "for num in L1:\n",
        "  if num > first:\n",
        "    second = first\n",
        "    first = num\n",
        "  elif num > second and num != first:\n",
        "    second = num\n",
        "\n",
        "print(\"Second number:\", second)"
      ],
      "metadata": {
        "id": "5o_IMa_Ccad3",
        "outputId": "361915a0-66b9-4a59-c365-c348097ed9e5",
        "colab": {
          "base_uri": "https://localhost:8080/"
        }
      },
      "execution_count": null,
      "outputs": [
        {
          "output_type": "stream",
          "name": "stdout",
          "text": [
            "Second number: 40\n"
          ]
        }
      ]
    },
    {
      "cell_type": "code",
      "source": [
        "# write a prime number checker\n",
        "num = 7\n",
        "count = 0\n",
        "\n",
        "for i in range(1,num+1):\n",
        "  if num % i == 0:\n",
        "    count += 1\n",
        "\n",
        "if count == 2:\n",
        "  print(\"Prime number\")\n",
        "else:\n",
        "  print(\"Not prime number\")\n"
      ],
      "metadata": {
        "id": "884PldJ3qpb8",
        "outputId": "f574b1de-1624-42f5-f9d5-7fe90a5647e4",
        "colab": {
          "base_uri": "https://localhost:8080/"
        }
      },
      "execution_count": null,
      "outputs": [
        {
          "output_type": "stream",
          "name": "stdout",
          "text": [
            "Prime number\n"
          ]
        }
      ]
    },
    {
      "cell_type": "code",
      "source": [
        "# print the 1 to 10 prime number\n",
        "\n",
        "for num in range(2, 50):\n",
        "    count = 0\n",
        "    for i in range(1, num + 1):\n",
        "        if num % i == 0:   # ✅ check divisor properly\n",
        "            count += 1\n",
        "    if count == 2:         # prime = exactly 2 divisors\n",
        "        print(num)\n"
      ],
      "metadata": {
        "id": "kJw3cwO1qs_K",
        "outputId": "c4190092-9fd8-4d64-b0a8-ab780f25db4d",
        "colab": {
          "base_uri": "https://localhost:8080/"
        }
      },
      "execution_count": null,
      "outputs": [
        {
          "output_type": "stream",
          "name": "stdout",
          "text": [
            "2\n",
            "3\n",
            "5\n",
            "7\n",
            "11\n",
            "13\n",
            "17\n",
            "19\n",
            "23\n",
            "29\n",
            "31\n",
            "37\n",
            "41\n",
            "43\n",
            "47\n"
          ]
        }
      ]
    },
    {
      "cell_type": "code",
      "source": [
        "# Armstrong number\n",
        "num = int(input(\"Enter a number:\"))\n",
        "digits = str(num)\n",
        "power = len(digits)\n",
        "total = 0\n",
        "\n",
        "for digit in digits:\n",
        "  total+= int(digit) ** power\n",
        "\n",
        "if num == total:\n",
        "  print(\"Armstrong number\")\n",
        "else:\n",
        "  print(\"Not armstrong number\")"
      ],
      "metadata": {
        "colab": {
          "base_uri": "https://localhost:8080/"
        },
        "id": "jfPEdN9EcrdS",
        "outputId": "33b4b1a0-ee33-4fa0-fdd2-cd47e4cf09b9"
      },
      "execution_count": null,
      "outputs": [
        {
          "output_type": "stream",
          "name": "stdout",
          "text": [
            "Enter a number:153\n",
            "Armstrong number\n"
          ]
        }
      ]
    },
    {
      "cell_type": "code",
      "source": [
        "#Merge two lists without duplicates Method -1\n",
        "list1 = [1,2,3,4]\n",
        "list2 = [2,3,4,5]\n",
        "\n",
        "merged = list(set(list1 + list2))\n",
        "print(merged)\n",
        "\n",
        "# Method - 2\n",
        "merged = []\n",
        "for item in list1 + list2:\n",
        "  if item not in merged:\n",
        "    merged.append(item)\n",
        "print(merged)"
      ],
      "metadata": {
        "id": "FqwWH6j0d5fk",
        "outputId": "06eeb25f-780e-414a-9a22-38e01781f37e",
        "colab": {
          "base_uri": "https://localhost:8080/"
        }
      },
      "execution_count": null,
      "outputs": [
        {
          "output_type": "stream",
          "name": "stdout",
          "text": [
            "[1, 2, 3, 4, 5]\n",
            "[1, 2, 3, 4, 5]\n"
          ]
        }
      ]
    },
    {
      "cell_type": "code",
      "source": [
        "#Find common elements in two lists\n",
        "list1 = [1,2,3,4,6]\n",
        "list2 = [2,3,4,5,7]\n",
        "\n",
        "common = []\n",
        "\n",
        "for item in list1 + list2:\n",
        "    if item in list2 and item not in common:\n",
        "      common.append(item)\n",
        "print(common)"
      ],
      "metadata": {
        "id": "Cjo72S8-fXs7",
        "outputId": "bd6db349-f884-4367-f1e6-e0285f1d87d8",
        "colab": {
          "base_uri": "https://localhost:8080/"
        }
      },
      "execution_count": null,
      "outputs": [
        {
          "output_type": "stream",
          "name": "stdout",
          "text": [
            "[2, 3, 4, 5, 7]\n"
          ]
        }
      ]
    },
    {
      "cell_type": "code",
      "source": [
        "#Write a function to count the number of vowels in a given string.\n",
        "def count_vowels(text):\n",
        "    vowels = \"aeiouAEIOU\"\n",
        "    count = 0\n",
        "    for char in text:\n",
        "        if char in vowels:\n",
        "            count +=1\n",
        "    return count\n",
        "\n",
        "string = \"Hello world\"\n",
        "\n",
        "print(\"World\", count_vowels(string))"
      ],
      "metadata": {
        "id": "g6pfVpk6v-Ev"
      },
      "execution_count": null,
      "outputs": []
    },
    {
      "cell_type": "code",
      "source": [],
      "metadata": {
        "id": "zoYXZ3UkwBBc"
      },
      "execution_count": null,
      "outputs": []
    },
    {
      "cell_type": "code",
      "execution_count": null,
      "metadata": {
        "colab": {
          "base_uri": "https://localhost:8080/"
        },
        "id": "NKZexq_X-BtT",
        "outputId": "e40f4f13-a652-4b8f-d02e-c75c962fb3bf"
      },
      "outputs": [
        {
          "output_type": "stream",
          "name": "stdout",
          "text": [
            "Enter a number:100\n",
            "Enter a number:200\n",
            "Before num1 swapping: 100\n",
            "Before num2 swapping: 200\n",
            "After num1 swapping: 200\n",
            "After num2 swapping: 100\n"
          ]
        }
      ],
      "source": [
        "num1=input(\"Enter a number:\")\n",
        "num2=input(\"Enter a number:\")\n",
        "\n",
        "print(\"Before num1 swapping:\", num1)\n",
        "print(\"Before num2 swapping:\", num2)\n",
        "\n",
        "num1,num2=num2,num1\n",
        "\n",
        "print(\"After num1 swapping:\",num1)\n",
        "print(\"After num2 swapping:\",num2)"
      ]
    },
    {
      "cell_type": "code",
      "source": [
        "# Program to calculate area of a triangle\n",
        "b= int(input(\"Enter a number :\"))\n",
        "h= int(input(\"Enter a number :\"))\n",
        "\n",
        "area = 0.5*h*b\n",
        "print(int(area))"
      ],
      "metadata": {
        "colab": {
          "base_uri": "https://localhost:8080/"
        },
        "id": "NG2p_Upr1D1d",
        "outputId": "fb096d94-a10e-4cd7-bb50-5beace35b0c5"
      },
      "execution_count": null,
      "outputs": [
        {
          "output_type": "stream",
          "name": "stdout",
          "text": [
            "Enter a number :10\n",
            "Enter a number :20\n",
            "100\n"
          ]
        }
      ]
    },
    {
      "cell_type": "code",
      "source": [
        "#Program to calculate area of a circle\n",
        "r = int(input(\"Enter a number :\"))\n",
        "area = 3.14 * r * r\n",
        "print(area)"
      ],
      "metadata": {
        "id": "86xVrDjH1TJ7"
      },
      "execution_count": null,
      "outputs": []
    },
    {
      "cell_type": "code",
      "source": [
        "# Program to calculate area of a cylinder\n",
        "r = int(input(\"Enter a number :\"))\n",
        "h= int(input(\"Enter a number :\"))\n",
        "area = 2*3.14*r*(r+h)\n",
        "print(area)\n"
      ],
      "metadata": {
        "colab": {
          "base_uri": "https://localhost:8080/"
        },
        "id": "qEoaCqlA1XwZ",
        "outputId": "4edfb84b-0ea3-476e-cfce-d24941323e79"
      },
      "execution_count": null,
      "outputs": [
        {
          "output_type": "stream",
          "name": "stdout",
          "text": [
            "Enter a number :1\n",
            "Enter a number :2\n",
            "18.84\n"
          ]
        }
      ]
    },
    {
      "cell_type": "code",
      "source": [
        "# Program to calculate area of a rectangle\n",
        "l = int(input(\"Enter a number :\"))\n",
        "b= int(input(\"Enter a number :\"))\n",
        "area = l*b\n",
        "print(area)\n"
      ],
      "metadata": {
        "colab": {
          "base_uri": "https://localhost:8080/"
        },
        "id": "Bcjc3v4x19Tl",
        "outputId": "63100071-36d8-4bd0-d143-a5942fe8eb0d"
      },
      "execution_count": null,
      "outputs": [
        {
          "output_type": "stream",
          "name": "stdout",
          "text": [
            "Enter a number :10\n",
            "Enter a number :20\n",
            "200\n"
          ]
        }
      ]
    },
    {
      "cell_type": "code",
      "source": [
        "#Program to calculate area of a cone\n",
        "r = int(input(\"Enter a number :\"))\n",
        "h= int(input(\"Enter a number :\"))\n",
        "area = 3.14*r*(r+((h**2)+(r**2))**0.5)\n",
        "print(area)"
      ],
      "metadata": {
        "id": "b1OOcYim2GH2"
      },
      "execution_count": null,
      "outputs": []
    },
    {
      "cell_type": "code",
      "source": [
        "#Program to calculate perimeter of a triangle\n",
        "a = int(input(\"Enter a number :\"))\n",
        "b = int(input(\"Enter a number :\"))\n",
        "c = int(input(\"Enter a number :\"))\n",
        "area = a+b+c\n",
        "print(area)"
      ],
      "metadata": {
        "colab": {
          "base_uri": "https://localhost:8080/"
        },
        "id": "L1ATgnj12asP",
        "outputId": "b6b74f65-7419-4269-b057-8432db2474eb"
      },
      "execution_count": null,
      "outputs": [
        {
          "output_type": "stream",
          "name": "stdout",
          "text": [
            "Enter a number :1\n",
            "Enter a number :2\n",
            "Enter a number :3\n",
            "6\n"
          ]
        }
      ]
    },
    {
      "cell_type": "code",
      "source": [
        "# Program to calculate perimeter of a circle\n",
        "r = int(input(\"Enter a number :\"))\n",
        "circumference = 2*3.14*r\n",
        "print(int(circumference))\n"
      ],
      "metadata": {
        "colab": {
          "base_uri": "https://localhost:8080/"
        },
        "id": "DtKBnW4X20o5",
        "outputId": "daea03e2-7b0d-4117-d7af-ae129be54b5b"
      },
      "execution_count": null,
      "outputs": [
        {
          "output_type": "stream",
          "name": "stdout",
          "text": [
            "Enter a number :2\n",
            "12\n"
          ]
        }
      ]
    },
    {
      "cell_type": "code",
      "source": [
        "#Sum of n natural numbers.\n",
        "n = int(input(\"Enter a number :\"))\n",
        "sum = n*(n+1)/2\n",
        "print(int(sum))\n"
      ],
      "metadata": {
        "colab": {
          "base_uri": "https://localhost:8080/"
        },
        "id": "Z0OzW1gN3T5t",
        "outputId": "885835ac-0eb9-4200-88e3-3956c779bf2f"
      },
      "execution_count": null,
      "outputs": [
        {
          "output_type": "stream",
          "name": "stdout",
          "text": [
            "Enter a number :2\n",
            "3\n"
          ]
        }
      ]
    },
    {
      "cell_type": "code",
      "source": [
        "#Prime or not\n",
        "\n",
        "num=5\n",
        "count=0\n",
        "\n",
        "if num>1:\n",
        "  for i in range(1,num+1):\n",
        "    if(num%i) == 0:\n",
        "      count=count+1\n",
        "  if count==2:\n",
        "    print(\"Prime\")\n",
        "  else:\n",
        "    print(\"Not prime\")"
      ],
      "metadata": {
        "colab": {
          "base_uri": "https://localhost:8080/"
        },
        "id": "Lb6ZEL8ICj8b",
        "outputId": "b4cb1588-7a34-4c45-d6f4-9168c859dbe8"
      },
      "execution_count": null,
      "outputs": [
        {
          "output_type": "stream",
          "name": "stdout",
          "text": [
            "Prime\n"
          ]
        }
      ]
    },
    {
      "cell_type": "code",
      "source": [
        "def factorial(n):\n",
        "    if n == 0 or n == 1:\n",
        "        return 1\n",
        "    else:\n",
        "        return n * factorial(n - 1)\n",
        "\n",
        "num = 5\n",
        "print(factorial(num))"
      ],
      "metadata": {
        "colab": {
          "base_uri": "https://localhost:8080/"
        },
        "id": "EnJIIb_CCnl5",
        "outputId": "7935a6fd-2742-4a2d-9510-7b1e4a1f7beb"
      },
      "execution_count": null,
      "outputs": [
        {
          "output_type": "stream",
          "name": "stdout",
          "text": [
            "120\n"
          ]
        }
      ]
    },
    {
      "cell_type": "code",
      "source": [
        "# fibonacci series\n",
        "# 0 1 1 2 3 5 8 13 21 34\n",
        "n1=0\n",
        "n2=1\n",
        "\n",
        "print(n1)\n",
        "print(n2)\n",
        "for i in range(2,10):\n",
        "  sum=n1+n2\n",
        "  print(sum)\n",
        "  n1=n2\n",
        "  n2=sum"
      ],
      "metadata": {
        "colab": {
          "base_uri": "https://localhost:8080/"
        },
        "id": "7tFLPxi1LhPd",
        "outputId": "7d0e2726-3405-403b-c51e-70848df1cfef"
      },
      "execution_count": null,
      "outputs": [
        {
          "output_type": "stream",
          "name": "stdout",
          "text": [
            "0\n",
            "1\n",
            "1\n",
            "2\n",
            "3\n",
            "5\n",
            "8\n",
            "13\n",
            "21\n",
            "34\n"
          ]
        }
      ]
    },
    {
      "cell_type": "code",
      "source": [
        "# find sum of elements in a array\n",
        "\n",
        "arr = [1, 2, 3, 4, 5]\n",
        "\n",
        "print(sum(arr))\n",
        "print(sum(arr, 20))"
      ],
      "metadata": {
        "colab": {
          "base_uri": "https://localhost:8080/"
        },
        "id": "lM3hb9PqNplg",
        "outputId": "8c2edf68-0407-4092-a3b9-e357eef551c9"
      },
      "execution_count": null,
      "outputs": [
        {
          "output_type": "stream",
          "name": "stdout",
          "text": [
            "15\n",
            "35\n"
          ]
        }
      ]
    },
    {
      "cell_type": "code",
      "source": [
        "# Find the largest number amoung the three inputs number\n",
        "l=[25,89,35]\n",
        "print(max(l))\n",
        "\n",
        "num1=float(input(\"Enter a number:\"))\n",
        "num2=float(input(\"Enter a number:\"))\n",
        "num3=float(input(\"Enter a number:\"))\n",
        "\n",
        "if num1>num2:\n",
        "  print(num1,\"is greater than\",num2)\n",
        "elif num2>num3:\n",
        "  print(num2,\"is greater than\",num3)\n",
        "else:\n",
        "  print(num3,\"is greater than\",num1)"
      ],
      "metadata": {
        "colab": {
          "base_uri": "https://localhost:8080/"
        },
        "id": "9_wfurDusude",
        "outputId": "ac89d6c6-0968-4d78-fa33-5b4845b47db2"
      },
      "execution_count": null,
      "outputs": [
        {
          "output_type": "stream",
          "name": "stdout",
          "text": [
            "89\n",
            "Enter a number:25\n",
            "Enter a number:57\n",
            "Enter a number:1000\n",
            "1000.0 is greater than 25.0\n"
          ]
        }
      ]
    },
    {
      "cell_type": "code",
      "source": [
        "#Check if the number is odd or even\n",
        "\n",
        "num=int(input(\"enter a number:\"))\n",
        "if num%2==0:\n",
        "  print(\"num, is even\")\n",
        "else:\n",
        "  print(\"num, is odd\")"
      ],
      "metadata": {
        "colab": {
          "base_uri": "https://localhost:8080/"
        },
        "id": "H9ni5R75uWTK",
        "outputId": "74adf843-66e8-4c07-b20d-2741c3296e92"
      },
      "execution_count": null,
      "outputs": [
        {
          "output_type": "stream",
          "name": "stdout",
          "text": [
            "enter a number:7\n",
            "num, is odd\n"
          ]
        }
      ]
    },
    {
      "cell_type": "code",
      "source": [
        "#Find the program to check the year is leap year or not\n",
        "year=2012\n",
        "def checkyear(year):\n",
        "  return ((year%4==0) and (year%100!=0)) or (year%400==0)\n",
        "if (checkyear(year)):\n",
        "  print(\"Leap year\")\n",
        "else:\n",
        "  print(\"Not a leap year\")"
      ],
      "metadata": {
        "colab": {
          "base_uri": "https://localhost:8080/"
        },
        "id": "jy8KDWuSu9Lj",
        "outputId": "61e665ff-02cd-4ead-f8de-3439548747c3"
      },
      "execution_count": null,
      "outputs": [
        {
          "output_type": "stream",
          "name": "stdout",
          "text": [
            "Leap year\n"
          ]
        }
      ]
    },
    {
      "cell_type": "code",
      "source": [
        "#check if palidrome or not\n",
        "def is_palidrome(s):\n",
        "  return s==s[::-1]\n",
        "s=input(\"enter a string  \")\n",
        "if is_palidrome(s):\n",
        "  print(\"yes is a palidrome\")\n",
        "else:\n",
        "  print(\"not a palidrome\")\n",
        "\n"
      ],
      "metadata": {
        "colab": {
          "base_uri": "https://localhost:8080/"
        },
        "id": "Phw2wpm8vb1H",
        "outputId": "a1af3d03-baf0-4cd9-b354-9c2050c307cc"
      },
      "execution_count": null,
      "outputs": [
        {
          "output_type": "stream",
          "name": "stdout",
          "text": [
            "enter a string  DAD\n",
            "yes is a palidrome\n"
          ]
        }
      ]
    },
    {
      "cell_type": "code",
      "source": [
        "#Write a python function to sum all the numbers\n",
        "# s = [1,2,3,4]\n",
        "# print(sum(s))\n",
        "\n",
        "def sum(numbers):\n",
        "  total=0\n",
        "  for x in numbers:\n",
        "    total+=x\n",
        "  return total\n",
        "print(sum([1,2,3,4]))"
      ],
      "metadata": {
        "colab": {
          "base_uri": "https://localhost:8080/"
        },
        "id": "vicnO8YjzGET",
        "outputId": "03a8a2bb-9b48-4fed-985a-cbccfe945078"
      },
      "execution_count": null,
      "outputs": [
        {
          "output_type": "stream",
          "name": "stdout",
          "text": [
            "10\n"
          ]
        }
      ]
    },
    {
      "cell_type": "code",
      "source": [
        "#Add two given a list using map and lambda\n",
        "l1=[1,2,3]\n",
        "l2=[3,4,5]\n",
        "print(l1,l2)\n",
        "result=(map(lambda x,y : x+y,l1,l2))\n",
        "print(\"result\",list(result))\n"
      ],
      "metadata": {
        "colab": {
          "base_uri": "https://localhost:8080/"
        },
        "id": "_a7yjclG021E",
        "outputId": "11f36494-68b5-4cf3-ed0f-00c615525a04"
      },
      "execution_count": null,
      "outputs": [
        {
          "output_type": "stream",
          "name": "stdout",
          "text": [
            "[1, 2, 3] [3, 4, 5]\n",
            "result [4, 6, 8]\n"
          ]
        }
      ]
    },
    {
      "cell_type": "code",
      "source": [
        "from string import punctuation\n",
        "#Python program to remove punctuation from a string\n",
        "\n",
        "punctuation = \"'''''!@#$%^&*()-+?_=,<>/.\"\n",
        "mystr=input(\"enter a string\")\n",
        "new_str=\"\"\n",
        "for c in mystr:\n",
        "  if c not in punctuation:\n",
        "    new_str +=c\n",
        "print(new_str)"
      ],
      "metadata": {
        "colab": {
          "base_uri": "https://localhost:8080/"
        },
        "id": "DazWPVfn175P",
        "outputId": "1d8b83c4-24c1-4364-bfeb-179262531600"
      },
      "execution_count": null,
      "outputs": [
        {
          "output_type": "stream",
          "name": "stdout",
          "text": [
            "enter a stringHello, World! This is a test-string.\n",
            "Hello World This is a teststring\n"
          ]
        }
      ]
    },
    {
      "cell_type": "code",
      "source": [
        "#program to print half pyramid using *\n",
        "rows=4\n",
        "for i in range(rows):\n",
        "  for j in range(i+1):\n",
        "    print(\"*\", end=\" \")\n",
        "  print()\n",
        "\n",
        "\n",
        "\n",
        "# rows = 4:\n",
        "# This sets the number of rows for the pattern. In this case, the pattern will have 4 rows.\n",
        "# Outer Loop (for i in range(rows)):\n",
        "# The outer loop runs rows times (4 times in this case).\n",
        "# i takes values from 0 to 3 (since range(rows) generates numbers from 0 to rows - 1).\n",
        "# Inner Loop (for j in range(i + 1)):\n",
        "# The inner loop runs i + 1 times for each iteration of the outer loop.\n",
        "# For example:\n",
        "# When i = 0, the inner loop runs 1 time (j takes value 0).\n",
        "# When i = 1, the inner loop runs 2 times (j takes values 0 and 1).\n",
        "# When i = 2, the inner loop runs 3 times (j takes values 0, 1, and 2).\n",
        "# When i = 3, the inner loop runs 4 times (j takes values 0, 1, 2, and 3).\n",
        "# print(\"*\", end=\" \"):\n",
        "# This prints an asterisk (*) followed by a space ( ).\n",
        "# The end=\" \" argument ensures that the next print statement continues on the same line instead of moving to a new line.\n",
        "# print():\n",
        "# After the inner loop completes for a given i, this print() statement moves the cursor to the next line, so the next row of asterisks starts on a new line.\n"
      ],
      "metadata": {
        "colab": {
          "base_uri": "https://localhost:8080/"
        },
        "id": "_gyzAEBf5BX2",
        "outputId": "e3c4ff5b-d936-4517-ec12-5806f6ce3a37"
      },
      "execution_count": null,
      "outputs": [
        {
          "output_type": "stream",
          "name": "stdout",
          "text": [
            "* \n",
            "* * \n",
            "* * * \n",
            "* * * * \n"
          ]
        }
      ]
    },
    {
      "cell_type": "code",
      "source": [
        "#Access both the key and value using items() from dictornary\n",
        "\n",
        "details={\"Name\" :\"Manoj\", \"Roll\" : \"21\"}\n",
        "\n",
        "for i,j in details.items():\n",
        "  print(i,j)"
      ],
      "metadata": {
        "colab": {
          "base_uri": "https://localhost:8080/"
        },
        "id": "siPdgRAX5dhX",
        "outputId": "c48c253a-318c-4084-9bec-50cd682fa948"
      },
      "execution_count": null,
      "outputs": [
        {
          "output_type": "stream",
          "name": "stdout",
          "text": [
            "Name Manoj\n",
            "Roll 21\n"
          ]
        }
      ]
    },
    {
      "cell_type": "code",
      "source": [
        "#Mulitipication in table (from 1 to 10) in python\n",
        "\n",
        "num = int(input(\"enter a number: \"))\n",
        "#2*1=2\n",
        "for i in range(1,21):\n",
        "  print(num, \"*\", i, \"=\", num * i)\n",
        "\n",
        "# num = 5\n",
        "# for i in range(1, 11):  # Multiplication table for 5\n",
        "#     print(num, \"*\", i, \"=\", num * i)"
      ],
      "metadata": {
        "colab": {
          "base_uri": "https://localhost:8080/"
        },
        "id": "qnQXVpL59JKD",
        "outputId": "58872da7-9894-4ccf-9022-bfd6a842e2d6"
      },
      "execution_count": null,
      "outputs": [
        {
          "output_type": "stream",
          "name": "stdout",
          "text": [
            "enter a number: 12\n",
            "12 * 1 = 12\n",
            "12 * 2 = 24\n",
            "12 * 3 = 36\n",
            "12 * 4 = 48\n",
            "12 * 5 = 60\n",
            "12 * 6 = 72\n",
            "12 * 7 = 84\n",
            "12 * 8 = 96\n",
            "12 * 9 = 108\n",
            "12 * 10 = 120\n",
            "12 * 11 = 132\n",
            "12 * 12 = 144\n",
            "12 * 13 = 156\n",
            "12 * 14 = 168\n",
            "12 * 15 = 180\n",
            "12 * 16 = 192\n",
            "12 * 17 = 204\n",
            "12 * 18 = 216\n",
            "12 * 19 = 228\n",
            "12 * 20 = 240\n"
          ]
        }
      ]
    },
    {
      "cell_type": "code",
      "source": [
        "\n",
        "#print the random numbers in 0 to 1000\n",
        "import numpy as np\n",
        "x= np.random.randint(low=0,high=1000,size=10)\n",
        "print(x)"
      ],
      "metadata": {
        "colab": {
          "base_uri": "https://localhost:8080/"
        },
        "id": "ADvKK4BoBLs7",
        "outputId": "80e91ce7-de80-4f3c-e6d9-4fd62736f7dd"
      },
      "execution_count": null,
      "outputs": [
        {
          "output_type": "stream",
          "name": "stdout",
          "text": [
            "[211 792 150 189  40 439 846   4 329  91]\n"
          ]
        }
      ]
    },
    {
      "cell_type": "code",
      "source": [
        "# pattern programs\n",
        "\n",
        "n = 4\n",
        "for i in range(n):\n",
        "  for j in range(i+1):\n",
        "    print(\"*\", end=\" \")\n",
        "  print()"
      ],
      "metadata": {
        "colab": {
          "base_uri": "https://localhost:8080/"
        },
        "id": "XQHak_bg4DPL",
        "outputId": "7f02911f-8054-493f-e2bb-0fccb10d102c"
      },
      "execution_count": null,
      "outputs": [
        {
          "output_type": "stream",
          "name": "stdout",
          "text": [
            "* \n",
            "* * \n",
            "* * * \n",
            "* * * * \n"
          ]
        }
      ]
    },
    {
      "cell_type": "code",
      "source": [
        "n = 4\n",
        "for i in range(n):\n",
        "  for j in range(n):\n",
        "    print(\"1\", end=\" \" ) # The end=\" \" part tells Python not to end the line with a newline (\\n), which is the default. Instead, it ends the output with a space \" \".\n",
        "  print()"
      ],
      "metadata": {
        "colab": {
          "base_uri": "https://localhost:8080/"
        },
        "id": "gDGbz2uU4XfT",
        "outputId": "160f322d-8df8-4d2f-f08e-04ecc2e5029d"
      },
      "execution_count": null,
      "outputs": [
        {
          "output_type": "stream",
          "name": "stdout",
          "text": [
            "1 1 1 1 \n",
            "1 1 1 1 \n",
            "1 1 1 1 \n",
            "1 1 1 1 \n"
          ]
        }
      ]
    },
    {
      "cell_type": "code",
      "source": [
        "n = 4\n",
        "for i in range(n):\n",
        "  for j in range(n-i):\n",
        "    print(\"*\", end=\" \")\n",
        "  print()\n",
        "# When i = 0, n - i = 4, so it prints 4 stars\n",
        "# When i = 1, n - i = 3, so it prints 3 stars\n",
        "# When i = 2, n - i = 2, so it prints 2 stars\n",
        "# When i = 3, n - i = 1, so it prints 1 star"
      ],
      "metadata": {
        "colab": {
          "base_uri": "https://localhost:8080/"
        },
        "id": "1Q5IaTQG40i6",
        "outputId": "076fd42a-865d-42c4-dc6d-8ae91ff29fc0"
      },
      "execution_count": null,
      "outputs": [
        {
          "output_type": "stream",
          "name": "stdout",
          "text": [
            "* * * * \n",
            "  * * * \n",
            "    * * \n",
            "      * \n"
          ]
        }
      ]
    },
    {
      "cell_type": "code",
      "source": [
        "n = 4\n",
        "for i in range(n):\n",
        "  for j in range(i):\n",
        "    print(\" \", end=\" \")\n",
        "  for j in range(n-i):\n",
        "    print(\"*\", end=\" \")\n",
        "  print()"
      ],
      "metadata": {
        "colab": {
          "base_uri": "https://localhost:8080/"
        },
        "id": "V9H_2pCI6Ru7",
        "outputId": "88b1aa9c-1035-4dbc-d3d9-ed02581d2ac6"
      },
      "execution_count": null,
      "outputs": [
        {
          "output_type": "stream",
          "name": "stdout",
          "text": [
            "* * * * \n",
            "  * * * \n",
            "    * * \n",
            "      * \n"
          ]
        }
      ]
    },
    {
      "cell_type": "code",
      "source": [
        "n = 4\n",
        "for i in range(n):\n",
        "  for j in range(n-1-i):\n",
        "    print(\" \", end=\" \")\n",
        "  for j in range(i +1):\n",
        "    print(\"*\", end=\" \")\n",
        "  print()"
      ],
      "metadata": {
        "colab": {
          "base_uri": "https://localhost:8080/"
        },
        "id": "gu_F1Kb-grCw",
        "outputId": "c17b92ec-6bbe-4944-f4c5-6ac8edeea27a"
      },
      "execution_count": null,
      "outputs": [
        {
          "output_type": "stream",
          "name": "stdout",
          "text": [
            "      * \n",
            "    * * \n",
            "  * * * \n",
            "* * * * \n"
          ]
        }
      ]
    },
    {
      "cell_type": "code",
      "source": [
        "n = 4\n",
        "for i in range(n):\n",
        "  for j in range(i+1):\n",
        "    print(\"*\", end=\" \")\n",
        "  print()\n",
        "for i in range(1, n):\n",
        "  for j in range(n-i):\n",
        "    print(\"*\", end=\" \")\n",
        "  print()\n",
        "\n",
        "# When i = 1 → j runs range(4) → 0 1 2 3 → prints 4 stars\n",
        "# When i = 2 → j runs range(3) → prints 3 stars\n",
        "# When i = 3 → j runs range(2) → prints 2 stars\n",
        "# When i = 4 → j runs range(1) → prints 1 star"
      ],
      "metadata": {
        "colab": {
          "base_uri": "https://localhost:8080/"
        },
        "id": "xCfQfManpCjF",
        "outputId": "730dd9a2-9211-49a4-df05-71d722238490"
      },
      "execution_count": null,
      "outputs": [
        {
          "output_type": "stream",
          "name": "stdout",
          "text": [
            "* \n",
            "* * \n",
            "* * * \n",
            "* * * * \n",
            "* * * \n",
            "* * \n",
            "* \n"
          ]
        }
      ]
    },
    {
      "cell_type": "code",
      "source": [
        "#Alphabetical patterns\n",
        "n = 4\n",
        "for i in range(n):\n",
        "  for j in range(i+1):\n",
        "    print(chr(65+i), end=\" \")\n",
        "  print()"
      ],
      "metadata": {
        "id": "wXO5oO6NrmbW",
        "colab": {
          "base_uri": "https://localhost:8080/"
        },
        "outputId": "bcb89d0a-efd0-47d2-e430-24cf50c4427b"
      },
      "execution_count": null,
      "outputs": [
        {
          "output_type": "stream",
          "name": "stdout",
          "text": [
            "A \n",
            "B B \n",
            "C C C \n",
            "D D D D \n"
          ]
        }
      ]
    },
    {
      "cell_type": "code",
      "source": [
        "n = 3\n",
        "for i in range(n):\n",
        "  for j in range(n-i-1):\n",
        "    print(\" \", end=\" \")\n",
        "  for k in range(n):\n",
        "    print(chr(65+i), end=\" \")\n",
        "  print()"
      ],
      "metadata": {
        "id": "DEIlKBFu0ehf",
        "colab": {
          "base_uri": "https://localhost:8080/"
        },
        "outputId": "7e68de42-db40-4266-b8e9-c9cb2ada8e4e"
      },
      "execution_count": null,
      "outputs": [
        {
          "output_type": "stream",
          "name": "stdout",
          "text": [
            "    A A A \n",
            "  B B B \n",
            "C C C \n"
          ]
        }
      ]
    },
    {
      "cell_type": "code",
      "source": [
        "# square pattren\n",
        "n = 4\n",
        "for i in range(n):\n",
        "  for j in range(n):\n",
        "    print('*', end=\" \")\n",
        "  print()"
      ],
      "metadata": {
        "colab": {
          "base_uri": "https://localhost:8080/"
        },
        "id": "EJ5fAqeV41Ml",
        "outputId": "bdcf4311-a56b-4b14-960f-9101578f6dd4"
      },
      "execution_count": null,
      "outputs": [
        {
          "output_type": "stream",
          "name": "stdout",
          "text": [
            "* * * * \n",
            "* * * * \n",
            "* * * * \n",
            "* * * * \n"
          ]
        }
      ]
    },
    {
      "cell_type": "code",
      "source": [
        "n = 3\n",
        "for i in range(n):\n",
        "    for j in range(n-1-i):\n",
        "        print(\" \", end=\" \")\n",
        "    for k in range(2 * i +1):\n",
        "        print(\"*\", end=\" \")\n",
        "    print()\n",
        "\n",
        "     # i = 0, k = 2 * 0 +1 = 1 star will print\n",
        "     # i = 1, k = 2 * 1 +1 = 3 stars will print\n",
        "     # i = 2, k =2 * 2 +1 = 5 stars will print"
      ],
      "metadata": {
        "colab": {
          "base_uri": "https://localhost:8080/"
        },
        "id": "nJhXY-qi8W-A",
        "outputId": "fb66a346-70d5-4861-f9a1-99aa675c1461"
      },
      "execution_count": null,
      "outputs": [
        {
          "output_type": "stream",
          "name": "stdout",
          "text": [
            "    * \n",
            "  * * * \n",
            "* * * * * \n"
          ]
        }
      ]
    },
    {
      "cell_type": "code",
      "source": [
        "n = 3\n",
        "for i in range(n):\n",
        "  for j in range(i):\n",
        "    print(\" \", end=\" \")\n",
        "  for k in range(2 *(n-i)-1):\n",
        "    print(\"*\", end=\" \")\n",
        "  print()"
      ],
      "metadata": {
        "colab": {
          "base_uri": "https://localhost:8080/"
        },
        "id": "dbKjV23Y_24N",
        "outputId": "000ff8b3-e3ae-4d1f-cf9d-4bb22f73059c"
      },
      "execution_count": null,
      "outputs": [
        {
          "output_type": "stream",
          "name": "stdout",
          "text": [
            "* * * * * \n",
            "  * * * \n",
            "    * \n"
          ]
        }
      ]
    }
  ],
  "metadata": {
    "colab": {
      "provenance": [],
      "include_colab_link": true
    },
    "kernelspec": {
      "display_name": "Python 3",
      "name": "python3"
    },
    "language_info": {
      "codemirror_mode": {
        "name": "ipython",
        "version": 3
      },
      "file_extension": ".py",
      "mimetype": "text/x-python",
      "name": "python",
      "nbconvert_exporter": "python",
      "pygments_lexer": "ipython3",
      "version": "3.13.3"
    }
  },
  "nbformat": 4,
  "nbformat_minor": 0
}