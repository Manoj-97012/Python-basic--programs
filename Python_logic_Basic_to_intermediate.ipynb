{
  "cells": [
    {
      "cell_type": "markdown",
      "metadata": {
        "colab_type": "text",
        "id": "view-in-github"
      },
      "source": [
        "<a href=\"https://colab.research.google.com/github/Manoj-97012/Python-basic--programs/blob/main/Python_logic_Basic_to_intermediate.ipynb\" target=\"_parent\"><img src=\"https://colab.research.google.com/assets/colab-badge.svg\" alt=\"Open In Colab\"/></a>"
      ]
    },
    {
      "cell_type": "code",
      "execution_count": 1,
      "metadata": {
        "colab": {
          "base_uri": "https://localhost:8080/"
        },
        "id": "o3_QGnZN08C7",
        "outputId": "844b6a87-9f3e-46a5-e771-2a7a3c2c6434"
      },
      "outputs": [
        {
          "name": "stdout",
          "output_type": "stream",
          "text": [
            "even\n"
          ]
        }
      ],
      "source": [
        "# Basic numbers and conditions\n",
        "#1.Even or Odd\n",
        "n = int(input('Enter a number'))\n",
        "if n % 2 == 0:\n",
        "        print('even')\n",
        "else:\n",
        "        print('odd')"
      ]
    },
    {
      "cell_type": "code",
      "execution_count": null,
      "metadata": {
        "id": "IgETmMf4Vai3"
      },
      "outputs": [],
      "source": [
        "#2.Positive or Negative\n",
        "n = int(input('Enter a number:'))\n",
        "if n > 0:\n",
        "    print('postive')\n",
        "elif n < 0:\n",
        "    print('negative')\n",
        "else :\n",
        "    print('Zero')"
      ]
    },
    {
      "cell_type": "code",
      "execution_count": null,
      "metadata": {
        "id": "VP_VoT-VWht3"
      },
      "outputs": [],
      "source": [
        "#3.Greatest of 3 Numbers\n",
        "a = int(input('Enter a number:'))\n",
        "b = int(input('Enter b number:'))\n",
        "c = int(input('Enter c number:'))\n",
        "\n",
        "if a >=b and a >=c:\n",
        "    print('this greatest number:', a)\n",
        "elif b >=a and  b>=c:\n",
        "    print('this greatest number:', b)\n",
        "else:\n",
        "    print('this greatest number:',c)"
      ]
    },
    {
      "cell_type": "code",
      "execution_count": null,
      "metadata": {
        "id": "82kKNhOSXp4G"
      },
      "outputs": [],
      "source": [
        "#4. Leap Year Check\n",
        "num = int(input('Enter a year :'))\n",
        "\n",
        "if (num % 4 == 0 and num % 100 !=0) or (num % 400 ==0):\n",
        "    print('this a leap year')\n",
        "else:\n",
        "    print('not a leap year')"
      ]
    },
    {
      "cell_type": "code",
      "execution_count": null,
      "metadata": {
        "colab": {
          "base_uri": "https://localhost:8080/"
        },
        "id": "8eVYXGrdI8X9",
        "outputId": "9c0d96d5-83c6-42ab-f2ed-ee5df0fa070b"
      },
      "outputs": [
        {
          "name": "stdout",
          "output_type": "stream",
          "text": [
            "0\n",
            "1\n",
            "2\n",
            "3\n",
            "4\n",
            "5\n",
            "6\n",
            "7\n",
            "8\n",
            "9\n",
            "10\n",
            "11\n",
            "12\n",
            "13\n",
            "14\n",
            "15\n",
            "16\n",
            "17\n",
            "18\n",
            "19\n",
            "20\n",
            "21\n",
            "22\n",
            "23\n",
            "24\n",
            "25\n",
            "26\n",
            "27\n",
            "28\n",
            "29\n",
            "30\n",
            "31\n",
            "32\n",
            "33\n",
            "34\n",
            "35\n",
            "36\n",
            "37\n",
            "38\n",
            "39\n",
            "40\n",
            "41\n",
            "42\n",
            "43\n",
            "44\n",
            "45\n",
            "46\n",
            "47\n",
            "48\n",
            "49\n",
            "50\n",
            "51\n",
            "52\n",
            "53\n",
            "54\n",
            "55\n",
            "56\n",
            "57\n",
            "58\n",
            "59\n",
            "60\n",
            "61\n",
            "62\n",
            "63\n",
            "64\n",
            "65\n",
            "66\n",
            "67\n",
            "68\n",
            "69\n",
            "70\n",
            "71\n",
            "72\n",
            "73\n",
            "74\n",
            "75\n",
            "76\n",
            "77\n",
            "78\n",
            "79\n",
            "80\n",
            "81\n",
            "82\n",
            "83\n",
            "84\n",
            "85\n",
            "86\n",
            "87\n",
            "88\n",
            "89\n",
            "90\n",
            "91\n",
            "92\n",
            "93\n",
            "94\n",
            "95\n",
            "96\n",
            "97\n",
            "98\n",
            "99\n",
            "100\n"
          ]
        }
      ],
      "source": [
        "#5. Print 1-100\n",
        "for i in range(0,101):\n",
        "  print(i)"
      ]
    },
    {
      "cell_type": "code",
      "execution_count": null,
      "metadata": {
        "colab": {
          "base_uri": "https://localhost:8080/"
        },
        "id": "rHuU9iVgI29g",
        "outputId": "4f01b83a-23c1-493b-cdfa-8ebb878181c6"
      },
      "outputs": [
        {
          "name": "stdout",
          "output_type": "stream",
          "text": [
            "        * \n",
            "      * * * \n",
            "    * * * * * \n",
            "  * * * * * * * \n",
            "* * * * * * * * * \n"
          ]
        }
      ],
      "source": [
        "#Number Triangle Pattern\n",
        "n = 5\n",
        "for i in range(1, n+1):\n",
        "  for j in range(1, n -i +1):\n",
        "    print(\" \", end=\" \")\n",
        "  for k in range(1, 2 * i):\n",
        "    print(\"*\", end=\" \")\n",
        "  print()\n"
      ]
    },
    {
      "cell_type": "code",
      "execution_count": null,
      "metadata": {
        "id": "rO5m4O9GKWk3"
      },
      "outputs": [],
      "source": [
        "#Star Diamond Pattern\n"
      ]
    },
    {
      "cell_type": "code",
      "execution_count": null,
      "metadata": {
        "colab": {
          "base_uri": "https://localhost:8080/"
        },
        "id": "OTR7oOjcTmEC",
        "outputId": "c786ec7f-40c5-4b02-abb8-731a1e5404bc"
      },
      "outputs": [
        {
          "name": "stdout",
          "output_type": "stream",
          "text": [
            "Enter a number:6\n",
            "6 * 1 = 6\n",
            "6 * 2 = 12\n",
            "6 * 3 = 18\n",
            "6 * 4 = 24\n",
            "6 * 5 = 30\n",
            "6 * 6 = 36\n",
            "6 * 7 = 42\n",
            "6 * 8 = 48\n",
            "6 * 9 = 54\n",
            "6 * 10 = 60\n"
          ]
        }
      ],
      "source": [
        "#Multiplication Table\n",
        "n = int(input('Enter a number:'))\n",
        "for i in range(1, 11):\n",
        "  print(f\"{n} * {i} = {n * i}\")\n",
        "  # 2 * 1 = 2"
      ]
    },
    {
      "cell_type": "code",
      "execution_count": null,
      "metadata": {
        "colab": {
          "base_uri": "https://localhost:8080/"
        },
        "id": "-sbOQuH5Uw2x",
        "outputId": "7236d562-219a-4ffb-e324-8cee5d5e6112"
      },
      "outputs": [
        {
          "name": "stdout",
          "output_type": "stream",
          "text": [
            "enter a string:Manoj\n",
            "jonaM\n"
          ]
        }
      ],
      "source": [
        "# string basics\n",
        "# 1. Reverse a String\n",
        "str = input(\"enter a string:\")\n",
        "print(str[::-1])"
      ]
    },
    {
      "cell_type": "code",
      "execution_count": null,
      "metadata": {
        "colab": {
          "base_uri": "https://localhost:8080/"
        },
        "id": "P4YbaQswVjJh",
        "outputId": "aae66707-007e-42ad-d20a-426f727ebb6a"
      },
      "outputs": [
        {
          "name": "stdout",
          "output_type": "stream",
          "text": [
            "enter a string:Manoj\n",
            "jonaM \n"
          ]
        }
      ],
      "source": [
        "# other way\n",
        "str = input('enter a string:')\n",
        "rev = ' '\n",
        "for i in str:\n",
        "  rev = i + rev   # 1.M + '' = M, 2. a + 'M' = aM\n",
        "print(rev)"
      ]
    },
    {
      "cell_type": "code",
      "execution_count": null,
      "metadata": {
        "colab": {
          "base_uri": "https://localhost:8080/"
        },
        "id": "OB-8h6tjXwBs",
        "outputId": "2358d392-ea57-4361-8697-e09828d5b3a4"
      },
      "outputs": [
        {
          "name": "stdout",
          "output_type": "stream",
          "text": [
            "enter a string:MOM\n",
            "palindrome\n"
          ]
        }
      ],
      "source": [
        "#3.Check Palindrome String\n",
        "str = input('enter a string:')\n",
        "if str == str[::-1]:\n",
        "  print('palindrome')\n",
        "else:\n",
        "  print('not palindrome')"
      ]
    },
    {
      "cell_type": "code",
      "execution_count": null,
      "metadata": {
        "colab": {
          "base_uri": "https://localhost:8080/"
        },
        "id": "fLOyXHRYXgWO",
        "outputId": "89a1fc72-041f-4694-d9eb-f6fc85d81383"
      },
      "outputs": [
        {
          "name": "stdout",
          "output_type": "stream",
          "text": [
            "palindrome\n"
          ]
        }
      ],
      "source": [
        "# other method\n",
        "def fun_1(str):\n",
        "    return s == s[::-1]\n",
        "str = 'MOM'\n",
        "res = fun_1\n",
        "if res:\n",
        "    print('palindrome')\n",
        "else:\n",
        "    print('not palindrome')"
      ]
    },
    {
      "cell_type": "code",
      "execution_count": null,
      "metadata": {
        "colab": {
          "base_uri": "https://localhost:8080/"
        },
        "id": "wwLWZKpGZu9L",
        "outputId": "d3528538-29a2-4257-f489-4179594e1ea3"
      },
      "outputs": [
        {
          "name": "stdout",
          "output_type": "stream",
          "text": [
            "Number of words: 4\n"
          ]
        }
      ],
      "source": [
        "#Word Count in Sentence\n",
        "sentence = \"Manojkumar is good boy\"\n",
        "words = sentence.split()\n",
        "word_count = len(words)\n",
        "\n",
        "print(\"Number of words:\", word_count)"
      ]
    },
    {
      "cell_type": "code",
      "execution_count": 7,
      "metadata": {
        "colab": {
          "base_uri": "https://localhost:8080/"
        },
        "id": "5dBRbZoL_x2l",
        "outputId": "d2b6d230-d158-4165-ee9b-e0f0aac8db35"
      },
      "outputs": [
        {
          "name": "stdout",
          "output_type": "stream",
          "text": [
            "Enter a string:silent\n",
            "Enter a string:listen\n",
            "Anagrams\n"
          ]
        }
      ],
      "source": [
        "# Anagram Check\n",
        "str1 = input(\"Enter a string:\")\n",
        "str2 = input(\"Enter a string:\")\n",
        "if len(str1) != len(str2):\n",
        "  print(\"Not anagrams\")\n",
        "elif sorted(str1) == sorted(str2):\n",
        "  print(\"Anagrams\")\n",
        "else:\n",
        "  print(\"Not anagrams\")"
      ]
    },
    {
      "cell_type": "code",
      "execution_count": 8,
      "metadata": {
        "colab": {
          "base_uri": "https://localhost:8080/"
        },
        "id": "fxIFs7LUKm-d",
        "outputId": "d1d40f14-f55b-4e1d-b3d5-595a56d31295"
      },
      "outputs": [
        {
          "name": "stdout",
          "output_type": "stream",
          "text": [
            "Enter a string:Manoj kumar is good boy\n",
            "{'M': 1, 'a': 2, 'n': 1, 'o': 4, 'j': 1, ' ': 4, 'k': 1, 'u': 1, 'm': 1, 'r': 1, 'i': 1, 's': 1, 'g': 1, 'd': 1, 'b': 1, 'y': 1}\n"
          ]
        }
      ],
      "source": [
        "#Character Frequency\n",
        "str = input(\"Enter a string:\")\n",
        "\n",
        "l = list(str)\n",
        "freq =[l.count(ele) for (ele) in l]\n",
        "\n",
        "#print(freq)\n",
        "\n",
        "d = dict(zip(l,freq))\n",
        "print(d)"
      ]
    },
    {
      "cell_type": "code",
      "execution_count": null,
      "metadata": {
        "id": "lFsm1CEIKwGE"
      },
      "outputs": [],
      "source": []
    }
  ],
  "metadata": {
    "colab": {
      "authorship_tag": "ABX9TyO+pU1bTDyn8JiheYZ/J6Iy",
      "include_colab_link": true,
      "provenance": []
    },
    "kernelspec": {
      "display_name": "Python 3",
      "name": "python3"
    },
    "language_info": {
      "codemirror_mode": {
        "name": "ipython",
        "version": 3
      },
      "file_extension": ".py",
      "mimetype": "text/x-python",
      "name": "python",
      "nbconvert_exporter": "python",
      "pygments_lexer": "ipython3",
      "version": "3.13.3"
    }
  },
  "nbformat": 4,
  "nbformat_minor": 0
}
