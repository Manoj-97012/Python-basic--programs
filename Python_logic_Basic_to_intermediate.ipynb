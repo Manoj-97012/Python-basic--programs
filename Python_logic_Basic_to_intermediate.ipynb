{
  "cells": [
    {
      "cell_type": "markdown",
      "metadata": {
        "id": "view-in-github",
        "colab_type": "text"
      },
      "source": [
        "<a href=\"https://colab.research.google.com/github/Manoj-97012/Python-basic--programs/blob/main/Python_logic_Basic_to_intermediate.ipynb\" target=\"_parent\"><img src=\"https://colab.research.google.com/assets/colab-badge.svg\" alt=\"Open In Colab\"/></a>"
      ]
    },
    {
      "cell_type": "code",
      "execution_count": null,
      "metadata": {
        "id": "o3_QGnZN08C7"
      },
      "outputs": [],
      "source": [
        "# Basic numbers and conditions\n",
        "#1.Even or Odd\n",
        "n = int(input('Enter a number'))\n",
        "if n % 2 == 0:\n",
        "        print('even')\n",
        "else:\n",
        "        print('odd')"
      ]
    },
    {
      "cell_type": "code",
      "execution_count": null,
      "metadata": {
        "id": "IgETmMf4Vai3"
      },
      "outputs": [],
      "source": [
        "#2.Positive or Negative\n",
        "n = int(input('Enter a number:'))\n",
        "if n > 0:\n",
        "    print('postive')\n",
        "elif n < 0:\n",
        "    print('negative')\n",
        "else :\n",
        "    print('Zero')"
      ]
    },
    {
      "cell_type": "code",
      "execution_count": null,
      "metadata": {
        "id": "VP_VoT-VWht3"
      },
      "outputs": [],
      "source": [
        "#3.Greatest of 3 Numbers\n",
        "a = int(input('Enter a number:'))\n",
        "b = int(input('Enter b number:'))\n",
        "c = int(input('Enter c number:'))\n",
        "\n",
        "if a >=b and a >=c:\n",
        "    print('this greatest number:', a)\n",
        "elif b >=a and  b>=c:\n",
        "    print('this greatest number:', b)\n",
        "else:\n",
        "    print('this greatest number:',c)"
      ]
    },
    {
      "cell_type": "code",
      "execution_count": null,
      "metadata": {
        "id": "82kKNhOSXp4G"
      },
      "outputs": [],
      "source": [
        "#4. Leap Year Check\n",
        "num = int(input('Enter a year :'))\n",
        "\n",
        "if (num % 4 == 0 and num % 100 !=0) or (num % 400 ==0):\n",
        "    print('this a leap year')\n",
        "else:\n",
        "    print('not a leap year')"
      ]
    },
    {
      "cell_type": "code",
      "execution_count": null,
      "metadata": {
        "id": "8eVYXGrdI8X9"
      },
      "outputs": [],
      "source": [
        "#5. Print 1-100\n",
        "for i in range(0,101):\n",
        "  print(i)"
      ]
    },
    {
      "cell_type": "code",
      "execution_count": null,
      "metadata": {
        "id": "rHuU9iVgI29g"
      },
      "outputs": [],
      "source": [
        "#Number Triangle Pattern\n",
        "n = 5\n",
        "for i in range(1, n+1):\n",
        "  for j in range(1, n -i +1):\n",
        "    print(\" \", end=\" \")\n",
        "  for k in range(1, 2 * i):\n",
        "    print(\"*\", end=\" \")\n",
        "  print()\n"
      ]
    },
    {
      "cell_type": "code",
      "execution_count": null,
      "metadata": {
        "id": "rO5m4O9GKWk3"
      },
      "outputs": [],
      "source": [
        "#Star Diamond Pattern\n"
      ]
    },
    {
      "cell_type": "code",
      "execution_count": null,
      "metadata": {
        "id": "OTR7oOjcTmEC"
      },
      "outputs": [],
      "source": [
        "#Multiplication Table\n",
        "n = int(input('Enter a number:'))\n",
        "for i in range(1, 11):\n",
        "  print(f\"{n} * {i} = {n * i}\")\n",
        "  # 2 * 1 = 2"
      ]
    },
    {
      "cell_type": "code",
      "execution_count": null,
      "metadata": {
        "id": "-sbOQuH5Uw2x"
      },
      "outputs": [],
      "source": [
        "# string basics\n",
        "# 1. Reverse a String\n",
        "str = input(\"enter a string:\")\n",
        "print(str[::-1])"
      ]
    },
    {
      "cell_type": "code",
      "execution_count": null,
      "metadata": {
        "id": "P4YbaQswVjJh"
      },
      "outputs": [],
      "source": [
        "# other way\n",
        "str = input('enter a string:')\n",
        "rev = ' '\n",
        "for i in str:\n",
        "  rev = i + rev   # 1.M + '' = M, 2. a + 'M' = aM\n",
        "print(rev)"
      ]
    },
    {
      "cell_type": "code",
      "execution_count": null,
      "metadata": {
        "id": "OB-8h6tjXwBs"
      },
      "outputs": [],
      "source": [
        "#3.Check Palindrome String\n",
        "str = input('enter a string:')\n",
        "if str == str[::-1]:\n",
        "  print('palindrome')\n",
        "else:\n",
        "  print('not palindrome')"
      ]
    },
    {
      "cell_type": "code",
      "execution_count": null,
      "metadata": {
        "id": "fLOyXHRYXgWO"
      },
      "outputs": [],
      "source": [
        "# other method\n",
        "def fun_1(str):\n",
        "    return s == s[::-1]\n",
        "str = 'MOM'\n",
        "res = fun_1\n",
        "if res:\n",
        "    print('palindrome')\n",
        "else:\n",
        "    print('not palindrome')"
      ]
    },
    {
      "cell_type": "code",
      "execution_count": null,
      "metadata": {
        "id": "wwLWZKpGZu9L"
      },
      "outputs": [],
      "source": [
        "#Word Count in Sentence\n",
        "sentence = \"Manojkumar is good boy\"\n",
        "words = sentence.split()\n",
        "word_count = len(words)\n",
        "\n",
        "print(\"Number of words:\", word_count)"
      ]
    },
    {
      "cell_type": "code",
      "execution_count": null,
      "metadata": {
        "id": "5dBRbZoL_x2l"
      },
      "outputs": [],
      "source": [
        "# Anagram Check\n",
        "str1 = input(\"Enter a string:\")\n",
        "str2 = input(\"Enter a string:\")\n",
        "if len(str1) != len(str2):\n",
        "  print(\"Not anagrams\")\n",
        "elif sorted(str1) == sorted(str2):\n",
        "  print(\"Anagrams\")\n",
        "else:\n",
        "  print(\"Not anagrams\")"
      ]
    },
    {
      "cell_type": "code",
      "execution_count": null,
      "metadata": {
        "id": "fxIFs7LUKm-d"
      },
      "outputs": [],
      "source": [
        "#Character Frequency\n",
        "str = input(\"Enter a string:\")\n",
        "\n",
        "l = list(str)\n",
        "freq =[l.count(ele) for (ele) in l]\n",
        "\n",
        "#print(freq)\n",
        "\n",
        "d = dict(zip(l,freq))\n",
        "print(d)"
      ]
    },
    {
      "cell_type": "code",
      "source": [
        "# sum of digit in a number\n",
        "num = int(input(\"Enter a number:\"))\n",
        "total = 0\n",
        "\n",
        "while num > 0:\n",
        "    digit = num % 10\n",
        "    total += digit\n",
        "    num //=10\n",
        "print(total)"
      ],
      "metadata": {
        "id": "5-iez6wFV0fp"
      },
      "execution_count": null,
      "outputs": []
    },
    {
      "cell_type": "code",
      "source": [
        "# find max and min in a list\n",
        "numbers = [99,20,30,80,99,101,10,1]\n",
        "\n",
        "largest_number= numbers[0]\n",
        "smallest_number= numbers[0]\n",
        "\n",
        "for num in numbers:\n",
        "    if num > largest_number:\n",
        "        largest_number = num\n",
        "    if num < smallest_number:\n",
        "        smallest_number = num\n",
        "\n",
        "print(largest_number)\n",
        "print(smallest_number)\n",
        "\n",
        ""
      ],
      "metadata": {
        "id": "XREppFXLV_2T"
      },
      "execution_count": null,
      "outputs": []
    },
    {
      "cell_type": "code",
      "source": [
        "# count words in sentence\n",
        "sentence = \"python is good langauage\"\n",
        "words = sentence.split()\n",
        "print(len(words))\n",
        "\n"
      ],
      "metadata": {
        "id": "e2vmPRqrdYNi"
      },
      "execution_count": null,
      "outputs": []
    },
    {
      "cell_type": "code",
      "source": [
        "# Find factorial of a number\n",
        "\n",
        "num = int(input(\"Enter a number:\"))\n",
        "fact = 1\n",
        "\n",
        "for i in range(1, num+1):\n",
        "    fact *= i\n",
        "\n",
        "print(fact)"
      ],
      "metadata": {
        "id": "MlaX8fDygHfy"
      },
      "execution_count": null,
      "outputs": []
    }
  ],
  "metadata": {
    "colab": {
      "provenance": [],
      "include_colab_link": true
    },
    "kernelspec": {
      "display_name": "Python 3",
      "name": "python3"
    },
    "language_info": {
      "codemirror_mode": {
        "name": "ipython",
        "version": 3
      },
      "file_extension": ".py",
      "mimetype": "text/x-python",
      "name": "python",
      "nbconvert_exporter": "python",
      "pygments_lexer": "ipython3",
      "version": "3.13.3"
    }
  },
  "nbformat": 4,
  "nbformat_minor": 0
}