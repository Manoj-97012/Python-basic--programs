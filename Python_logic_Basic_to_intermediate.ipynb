{
  "cells": [
    {
      "cell_type": "markdown",
      "metadata": {
        "id": "view-in-github",
        "colab_type": "text"
      },
      "source": [
        "<a href=\"https://colab.research.google.com/github/Manoj-97012/Python-basic--programs/blob/main/Python_logic_Basic_to_intermediate.ipynb\" target=\"_parent\"><img src=\"https://colab.research.google.com/assets/colab-badge.svg\" alt=\"Open In Colab\"/></a>"
      ]
    },
    {
      "cell_type": "code",
      "execution_count": null,
      "metadata": {
        "id": "o3_QGnZN08C7"
      },
      "outputs": [],
      "source": [
        "# Basic numbers and conditions\n",
        "#1.Even or Odd\n",
        "n = int(input('Enter a number'))\n",
        "if n % 2 == 0:\n",
        "        print('even')\n",
        "else:\n",
        "        print('odd')"
      ]
    },
    {
      "cell_type": "code",
      "execution_count": null,
      "metadata": {
        "id": "IgETmMf4Vai3"
      },
      "outputs": [],
      "source": [
        "#2.Positive or Negative\n",
        "n = int(input('Enter a number:'))\n",
        "if n > 0:\n",
        "    print('postive')\n",
        "elif n < 0:\n",
        "    print('negative')\n",
        "else :\n",
        "    print('Zero')"
      ]
    },
    {
      "cell_type": "code",
      "execution_count": null,
      "metadata": {
        "id": "VP_VoT-VWht3"
      },
      "outputs": [],
      "source": [
        "#3.Greatest of 3 Numbers\n",
        "a = int(input('Enter a number:'))\n",
        "b = int(input('Enter b number:'))\n",
        "c = int(input('Enter c number:'))\n",
        "\n",
        "if a >=b and a >=c:\n",
        "    print('this greatest number:', a)\n",
        "elif b >=a and  b>=c:\n",
        "    print('this greatest number:', b)\n",
        "else:\n",
        "    print('this greatest number:',c)"
      ]
    },
    {
      "cell_type": "code",
      "execution_count": null,
      "metadata": {
        "id": "82kKNhOSXp4G"
      },
      "outputs": [],
      "source": [
        "#4. Leap Year Check\n",
        "num = int(input('Enter a year :'))\n",
        "\n",
        "if (num % 4 == 0 and num % 100 !=0) or (num % 400 ==0):\n",
        "    print('this a leap year')\n",
        "else:\n",
        "    print('not a leap year')"
      ]
    },
    {
      "cell_type": "code",
      "execution_count": null,
      "metadata": {
        "id": "8eVYXGrdI8X9"
      },
      "outputs": [],
      "source": [
        "#5. Print 1-100\n",
        "for i in range(0,101):\n",
        "  print(i)"
      ]
    },
    {
      "cell_type": "code",
      "execution_count": null,
      "metadata": {
        "id": "rHuU9iVgI29g"
      },
      "outputs": [],
      "source": [
        "#Number Triangle Pattern\n",
        "n = 5\n",
        "for i in range(1, n+1):\n",
        "  for j in range(1, n -i +1):\n",
        "    print(\" \", end=\" \")\n",
        "  for k in range(1, 2 * i):\n",
        "    print(\"*\", end=\" \")\n",
        "  print()\n"
      ]
    },
    {
      "cell_type": "code",
      "execution_count": null,
      "metadata": {
        "id": "rO5m4O9GKWk3"
      },
      "outputs": [],
      "source": [
        "#Star Diamond Pattern\n"
      ]
    },
    {
      "cell_type": "code",
      "execution_count": null,
      "metadata": {
        "id": "OTR7oOjcTmEC"
      },
      "outputs": [],
      "source": [
        "#Multiplication Table\n",
        "n = int(input('Enter a number:'))\n",
        "for i in range(1, 11):\n",
        "  print(f\"{n} * {i} = {n * i}\")\n",
        "  # 2 * 1 = 2"
      ]
    },
    {
      "cell_type": "code",
      "execution_count": null,
      "metadata": {
        "id": "-sbOQuH5Uw2x",
        "outputId": "5c49d7ac-ac27-4152-d861-77bc35acf149",
        "colab": {
          "base_uri": "https://localhost:8080/"
        }
      },
      "outputs": [
        {
          "output_type": "stream",
          "name": "stdout",
          "text": [
            "enter a string:Man\n",
            "naM\n"
          ]
        }
      ],
      "source": [
        "# string basics\n",
        "# 1. Reverse a String\n",
        "str = input(\"enter a string:\")\n",
        "print(str[::-1])"
      ]
    },
    {
      "cell_type": "code",
      "execution_count": null,
      "metadata": {
        "id": "P4YbaQswVjJh"
      },
      "outputs": [],
      "source": [
        "# other way\n",
        "str = input('enter a string:')\n",
        "rev = ' '\n",
        "for i in str:\n",
        "  rev = i + rev   # 1.M + '' = M, 2. a + 'M' = aM\n",
        "print(rev)"
      ]
    },
    {
      "cell_type": "code",
      "execution_count": null,
      "metadata": {
        "id": "OB-8h6tjXwBs"
      },
      "outputs": [],
      "source": [
        "#3.Check Palindrome String\n",
        "str = input('enter a string:')\n",
        "if str == str[::-1]:\n",
        "  print('palindrome')\n",
        "else:\n",
        "  print('not palindrome')"
      ]
    },
    {
      "cell_type": "code",
      "execution_count": null,
      "metadata": {
        "id": "fLOyXHRYXgWO"
      },
      "outputs": [],
      "source": [
        "# other method\n",
        "def fun_1(str):\n",
        "    return s == s[::-1]\n",
        "str = 'MOM'\n",
        "res = fun_1\n",
        "if res:\n",
        "    print('palindrome')\n",
        "else:\n",
        "    print('not palindrome')"
      ]
    },
    {
      "cell_type": "code",
      "execution_count": null,
      "metadata": {
        "id": "wwLWZKpGZu9L",
        "outputId": "a35d13c3-435f-46a8-bda2-a03094fed4b5",
        "colab": {
          "base_uri": "https://localhost:8080/"
        }
      },
      "outputs": [
        {
          "output_type": "stream",
          "name": "stdout",
          "text": [
            "Number of words: 4\n"
          ]
        }
      ],
      "source": [
        "#Word Count in Sentence\n",
        "sentence = \"Manojkumar is good boy\"\n",
        "words = sentence.split()\n",
        "word_count = len(words)\n",
        "\n",
        "print(\"Number of words:\", word_count)"
      ]
    },
    {
      "cell_type": "code",
      "execution_count": null,
      "metadata": {
        "id": "5dBRbZoL_x2l",
        "outputId": "c2a857a6-3436-4852-d4f0-1a459385f55d",
        "colab": {
          "base_uri": "https://localhost:8080/"
        }
      },
      "outputs": [
        {
          "output_type": "stream",
          "name": "stdout",
          "text": [
            "Enter a string:silent\n",
            "Enter a string:listen\n",
            "Anagrams\n"
          ]
        }
      ],
      "source": [
        "# Anagram Check\n",
        "str1 = input(\"Enter a string:\")\n",
        "str2 = input(\"Enter a string:\")\n",
        "if len(str1) != len(str2):\n",
        "  print(\"Not anagrams\")\n",
        "elif sorted(str1) == sorted(str2):\n",
        "  print(\"Anagrams\")\n",
        "else:\n",
        "  print(\"Not anagrams\")"
      ]
    },
    {
      "cell_type": "code",
      "execution_count": null,
      "metadata": {
        "id": "fxIFs7LUKm-d"
      },
      "outputs": [],
      "source": [
        "#Character Frequency\n",
        "str = input(\"Enter a string:\")\n",
        "\n",
        "l = list(str)\n",
        "freq =[l.count(ele) for (ele) in l]\n",
        "\n",
        "#print(freq)\n",
        "\n",
        "d = dict(zip(l,freq))\n",
        "print(d)"
      ]
    },
    {
      "cell_type": "code",
      "source": [
        "# sum of digit in a number\n",
        "num = int(input(\"Enter a number:\"))\n",
        "total = 0\n",
        "\n",
        "while num > 0:\n",
        "    digit = num % 10\n",
        "    total += digit\n",
        "    num //=10\n",
        "print(total)"
      ],
      "metadata": {
        "id": "5-iez6wFV0fp"
      },
      "execution_count": null,
      "outputs": []
    },
    {
      "cell_type": "code",
      "source": [
        "# find max and min in a list\n",
        "numbers = [99,20,30,80,99,101,10,1]\n",
        "\n",
        "largest_number= numbers[0]\n",
        "smallest_number= numbers[0]\n",
        "\n",
        "for num in numbers:\n",
        "    if num > largest_number:\n",
        "        largest_number = num\n",
        "    if num < smallest_number:\n",
        "        smallest_number = num\n",
        "\n",
        "print(largest_number)\n",
        "print(smallest_number)\n",
        "\n"
      ],
      "metadata": {
        "id": "XREppFXLV_2T"
      },
      "execution_count": null,
      "outputs": []
    },
    {
      "cell_type": "code",
      "source": [
        "# count words in sentence\n",
        "sentence = \"python is good langauage\"\n",
        "words = sentence.split()\n",
        "print(len(words))\n",
        "\n"
      ],
      "metadata": {
        "id": "e2vmPRqrdYNi"
      },
      "execution_count": null,
      "outputs": []
    },
    {
      "cell_type": "code",
      "source": [
        "# Find factorial of a number\n",
        "\n",
        "num = int(input(\"Enter a number:\"))\n",
        "fact = 1\n",
        "\n",
        "for i in range(1, num+1):\n",
        "    fact *= i\n",
        "\n",
        "print(fact)"
      ],
      "metadata": {
        "id": "MlaX8fDygHfy"
      },
      "execution_count": null,
      "outputs": []
    },
    {
      "cell_type": "code",
      "source": [
        "# check if number is prime\n",
        "\n"
      ],
      "metadata": {
        "id": "S_AhMlWJVlgU"
      },
      "execution_count": null,
      "outputs": []
    },
    {
      "cell_type": "code",
      "source": [
        "# Swap two variables without temp variable\n",
        "\n",
        "a = int(input(\"Enter a number:\"))\n",
        "b = int(input(\"Enter a number:\"))\n",
        "\n",
        "print(\"Before swapping:\",a)\n",
        "print(\"Before swapping:\",b)\n",
        "a,b = b,a\n",
        "print(\"After swapping:\",a)\n",
        "print(\"After swapping:\",b)\n"
      ],
      "metadata": {
        "id": "h2ZxdVBgXj4Y"
      },
      "execution_count": null,
      "outputs": []
    },
    {
      "cell_type": "code",
      "source": [
        "# fibonacci series\n",
        "# 0 1 1 2 3 5 8 13 21 34\n",
        "n1=0\n",
        "n2=1\n",
        "\n",
        "print(n1)\n",
        "print(n2)\n",
        "for i in range(2,10):\n",
        "  sum=n1+n2\n",
        "  print(sum)\n",
        "  n1=n2\n",
        "  n2=sum"
      ],
      "metadata": {
        "id": "URfTlz-VTSsb",
        "outputId": "74e70835-055e-4faa-ff82-f120ce04cc86",
        "colab": {
          "base_uri": "https://localhost:8080/"
        }
      },
      "execution_count": null,
      "outputs": [
        {
          "output_type": "stream",
          "name": "stdout",
          "text": [
            "0\n",
            "1\n",
            "1\n",
            "2\n",
            "3\n",
            "5\n",
            "8\n",
            "13\n",
            "21\n",
            "34\n"
          ]
        }
      ]
    },
    {
      "cell_type": "code",
      "source": [
        "# Find the second largest numbers\n",
        "L1 = [10,20,30,40,90]\n",
        "\n",
        "first = second = float('-inf')\n",
        "\n",
        "for num in L1:\n",
        "  if num > first:\n",
        "    second = first\n",
        "    first = num\n",
        "  elif num > second and num != first:\n",
        "    second = num\n",
        "\n",
        "print(\"Second number:\", second)"
      ],
      "metadata": {
        "id": "5o_IMa_Ccad3",
        "outputId": "361915a0-66b9-4a59-c365-c348097ed9e5",
        "colab": {
          "base_uri": "https://localhost:8080/"
        }
      },
      "execution_count": null,
      "outputs": [
        {
          "output_type": "stream",
          "name": "stdout",
          "text": [
            "Second number: 40\n"
          ]
        }
      ]
    },
    {
      "cell_type": "code",
      "source": [
        "# write a prime number checker\n",
        "num = 7\n",
        "count = 0\n",
        "\n",
        "for i in range(1,num+1):\n",
        "  if num % i == 0:\n",
        "    count += 1\n",
        "\n",
        "if count == 2:\n",
        "  print(\"Prime number\")\n",
        "else:\n",
        "  print(\"Not prime number\")\n"
      ],
      "metadata": {
        "id": "884PldJ3qpb8",
        "outputId": "f574b1de-1624-42f5-f9d5-7fe90a5647e4",
        "colab": {
          "base_uri": "https://localhost:8080/"
        }
      },
      "execution_count": null,
      "outputs": [
        {
          "output_type": "stream",
          "name": "stdout",
          "text": [
            "Prime number\n"
          ]
        }
      ]
    },
    {
      "cell_type": "code",
      "source": [
        "# print the 1 to 10 prime number\n",
        "\n",
        "for num in range(2, 50):\n",
        "    count = 0\n",
        "    for i in range(1, num + 1):\n",
        "        if num % i == 0:   # ✅ check divisor properly\n",
        "            count += 1\n",
        "    if count == 2:         # prime = exactly 2 divisors\n",
        "        print(num)\n"
      ],
      "metadata": {
        "id": "kJw3cwO1qs_K",
        "outputId": "c4190092-9fd8-4d64-b0a8-ab780f25db4d",
        "colab": {
          "base_uri": "https://localhost:8080/"
        }
      },
      "execution_count": null,
      "outputs": [
        {
          "output_type": "stream",
          "name": "stdout",
          "text": [
            "2\n",
            "3\n",
            "5\n",
            "7\n",
            "11\n",
            "13\n",
            "17\n",
            "19\n",
            "23\n",
            "29\n",
            "31\n",
            "37\n",
            "41\n",
            "43\n",
            "47\n"
          ]
        }
      ]
    },
    {
      "cell_type": "code",
      "source": [
        "# Armstrong number\n",
        "num = int(input(\"Enter a number:\"))\n",
        "digits = str(num)\n",
        "power = len(digits)\n",
        "total = 0\n",
        "\n",
        "for digit in digits:\n",
        "  total+= int(digit) ** power\n",
        "\n",
        "if num == total:\n",
        "  print(\"Armstrong number\")\n",
        "else:\n",
        "  print(\"Not armstrong number\")"
      ],
      "metadata": {
        "colab": {
          "base_uri": "https://localhost:8080/"
        },
        "id": "jfPEdN9EcrdS",
        "outputId": "33b4b1a0-ee33-4fa0-fdd2-cd47e4cf09b9"
      },
      "execution_count": null,
      "outputs": [
        {
          "output_type": "stream",
          "name": "stdout",
          "text": [
            "Enter a number:153\n",
            "Armstrong number\n"
          ]
        }
      ]
    },
    {
      "cell_type": "code",
      "source": [
        "#Merge two lists without duplicates Method -1\n",
        "list1 = [1,2,3,4]\n",
        "list2 = [2,3,4,5]\n",
        "\n",
        "merged = list(set(list1 + list2))\n",
        "print(merged)\n",
        "\n",
        "# Method - 2\n",
        "merged = []\n",
        "for item in list1 + list2:\n",
        "  if item not in merged:\n",
        "    merged.append(item)\n",
        "print(merged)"
      ],
      "metadata": {
        "id": "FqwWH6j0d5fk",
        "outputId": "06eeb25f-780e-414a-9a22-38e01781f37e",
        "colab": {
          "base_uri": "https://localhost:8080/"
        }
      },
      "execution_count": null,
      "outputs": [
        {
          "output_type": "stream",
          "name": "stdout",
          "text": [
            "[1, 2, 3, 4, 5]\n",
            "[1, 2, 3, 4, 5]\n"
          ]
        }
      ]
    },
    {
      "cell_type": "code",
      "source": [
        "#Find common elements in two lists\n",
        "list1 = [1,2,3,4,6]\n",
        "list2 = [2,3,4,5,7]\n",
        "\n",
        "common = []\n",
        "\n",
        "for item in list1 + list2:\n",
        "    if item in list2 and item not in common:\n",
        "      common.append(item)\n",
        "print(common)"
      ],
      "metadata": {
        "id": "Cjo72S8-fXs7",
        "outputId": "bd6db349-f884-4367-f1e6-e0285f1d87d8",
        "colab": {
          "base_uri": "https://localhost:8080/"
        }
      },
      "execution_count": null,
      "outputs": [
        {
          "output_type": "stream",
          "name": "stdout",
          "text": [
            "[2, 3, 4, 5, 7]\n"
          ]
        }
      ]
    },
    {
      "cell_type": "code",
      "source": [
        "#Write a function to count the number of vowels in a given string.\n",
        "def count_vowels(text):\n",
        "    vowels = \"aeiouAEIOU\"\n",
        "    count = 0\n",
        "    for char in text:\n",
        "        if char in vowels:\n",
        "            count +=1\n",
        "    return count\n",
        "\n",
        "string = \"Hello world\"\n",
        "\n",
        "print(\"World\", count_vowels(string))"
      ],
      "metadata": {
        "id": "g6pfVpk6v-Ev"
      },
      "execution_count": null,
      "outputs": []
    },
    {
      "cell_type": "code",
      "source": [],
      "metadata": {
        "id": "zoYXZ3UkwBBc"
      },
      "execution_count": null,
      "outputs": []
    }
  ],
  "metadata": {
    "colab": {
      "provenance": [],
      "include_colab_link": true
    },
    "kernelspec": {
      "display_name": "Python 3",
      "name": "python3"
    },
    "language_info": {
      "codemirror_mode": {
        "name": "ipython",
        "version": 3
      },
      "file_extension": ".py",
      "mimetype": "text/x-python",
      "name": "python",
      "nbconvert_exporter": "python",
      "pygments_lexer": "ipython3",
      "version": "3.13.3"
    }
  },
  "nbformat": 4,
  "nbformat_minor": 0
}