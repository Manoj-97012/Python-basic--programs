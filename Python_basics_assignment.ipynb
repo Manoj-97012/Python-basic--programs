{
  "nbformat": 4,
  "nbformat_minor": 0,
  "metadata": {
    "colab": {
      "provenance": [],
      "authorship_tag": "ABX9TyN8yvEbv0idI3+iykN/1Ytn",
      "include_colab_link": true
    },
    "kernelspec": {
      "name": "python3",
      "display_name": "Python 3"
    },
    "language_info": {
      "name": "python"
    }
  },
  "cells": [
    {
      "cell_type": "markdown",
      "metadata": {
        "id": "view-in-github",
        "colab_type": "text"
      },
      "source": [
        "<a href=\"https://colab.research.google.com/github/Manoj-97012/Python-basic--programs/blob/main/Python_basics_assignment.ipynb\" target=\"_parent\"><img src=\"https://colab.research.google.com/assets/colab-badge.svg\" alt=\"Open In Colab\"/></a>"
      ]
    },
    {
      "cell_type": "code",
      "source": [
        "# 1. Print Function\n",
        "print(\"Hello world\")"
      ],
      "metadata": {
        "colab": {
          "base_uri": "https://localhost:8080/"
        },
        "id": "ok02dKAg3INe",
        "outputId": "533c0117-fd99-4455-ca01-10db53d2464c"
      },
      "execution_count": null,
      "outputs": [
        {
          "output_type": "stream",
          "name": "stdout",
          "text": [
            "Hello world\n"
          ]
        }
      ]
    },
    {
      "cell_type": "code",
      "source": [
        "#single line\n",
        "i = 10\n",
        "print(type(i))"
      ],
      "metadata": {
        "colab": {
          "base_uri": "https://localhost:8080/"
        },
        "id": "RmLss2gj3Wi3",
        "outputId": "868ff307-69a3-4279-d90a-f43bf4d31e16"
      },
      "execution_count": null,
      "outputs": [
        {
          "output_type": "stream",
          "name": "stdout",
          "text": [
            "<class 'int'>\n"
          ]
        }
      ]
    },
    {
      "cell_type": "code",
      "source": [
        "\"\"\" this multiple comments\n",
        "manoj is good boy \"\"\"\n",
        "i = 10\n",
        "print(type(i))\n"
      ],
      "metadata": {
        "colab": {
          "base_uri": "https://localhost:8080/"
        },
        "id": "wKJMIme13kKH",
        "outputId": "d4e8f1b6-a826-41c3-c62a-99423885baa1"
      },
      "execution_count": null,
      "outputs": [
        {
          "output_type": "stream",
          "name": "stdout",
          "text": [
            "<class 'int'>\n"
          ]
        }
      ]
    },
    {
      "cell_type": "code",
      "source": [
        "#Python support different data types like int , float , string and boolean .\n",
        "a= 10\n",
        "#string\n",
        "b= \"Manoj\"\n",
        "#float\n",
        "c= 10.5\n",
        "\n",
        "print(type(a))\n",
        "print(type(b))\n",
        "print(type(c))"
      ],
      "metadata": {
        "colab": {
          "base_uri": "https://localhost:8080/"
        },
        "id": "jDrS5S7J34bX",
        "outputId": "403a5f0e-06d3-4a28-869d-8864eb61e21b"
      },
      "execution_count": null,
      "outputs": [
        {
          "output_type": "stream",
          "name": "stdout",
          "text": [
            "<class 'int'>\n",
            "<class 'str'>\n",
            "<class 'float'>\n"
          ]
        }
      ]
    },
    {
      "cell_type": "code",
      "source": [
        "# define a string with sentence 'This is so beautiful'\n",
        "a = \" This is so beautiful\"\n",
        "print(type(a))"
      ],
      "metadata": {
        "colab": {
          "base_uri": "https://localhost:8080/"
        },
        "id": "lgxoMJFd4UNn",
        "outputId": "a4766eb0-3c0a-4519-a81b-b8544ebc593d"
      },
      "execution_count": null,
      "outputs": [
        {
          "output_type": "stream",
          "name": "stdout",
          "text": [
            "<class 'str'>\n"
          ]
        }
      ]
    },
    {
      "cell_type": "code",
      "source": [
        "E = True\n",
        "print(type(E))"
      ],
      "metadata": {
        "colab": {
          "base_uri": "https://localhost:8080/"
        },
        "id": "OB9bTjvV3ruk",
        "outputId": "632d95a9-6f1f-437d-9442-6f646d46be88"
      },
      "execution_count": null,
      "outputs": [
        {
          "output_type": "stream",
          "name": "stdout",
          "text": [
            "<class 'bool'>\n"
          ]
        }
      ]
    },
    {
      "cell_type": "code",
      "source": [
        "#Swapping the two values\n",
        "a = 10\n",
        "b = 20\n",
        "print(\"Before swapping:\", a)\n",
        "print(\"Before swapping:\", b)\n",
        "a ,b = b, a\n",
        "print(\"After swapping:\", a)\n",
        "print(\"After swapping:\", b)\n"
      ],
      "metadata": {
        "colab": {
          "base_uri": "https://localhost:8080/"
        },
        "id": "LqKqEhVc47BR",
        "outputId": "1041ce59-35ea-4735-ed3c-856ab592981e"
      },
      "execution_count": null,
      "outputs": [
        {
          "output_type": "stream",
          "name": "stdout",
          "text": [
            "Before swapping: 10\n",
            "Before swapping: 20\n",
            "After swapping: 20\n",
            "After swapping: 10\n"
          ]
        }
      ]
    },
    {
      "cell_type": "code",
      "source": [
        "x = \"Manoj\"\n",
        "y = \"Kumar\"\n",
        "print(\"Before swapping:\", x)\n",
        "print(\"Before swapping:\", y)\n",
        "temp = x\n",
        "x = y\n",
        "y = temp\n",
        "print(\"After swapping:\", x)\n",
        "print(\"After swapping:\", y)"
      ],
      "metadata": {
        "colab": {
          "base_uri": "https://localhost:8080/"
        },
        "id": "UMsDQ1u756jS",
        "outputId": "63273b67-6bb2-4121-eff9-0980ed39e13c"
      },
      "execution_count": null,
      "outputs": [
        {
          "output_type": "stream",
          "name": "stdout",
          "text": [
            "Before swapping: Manoj\n",
            "Before swapping: Kumar\n",
            "After swapping: Kumar\n",
            "After swapping: Manoj\n"
          ]
        }
      ]
    },
    {
      "cell_type": "code",
      "source": [
        "a = \"city\"\n",
        "b = 5\n",
        "print(a,b)\n",
        "print(str(a)+str(b))"
      ],
      "metadata": {
        "colab": {
          "base_uri": "https://localhost:8080/"
        },
        "id": "cXs9V6Ok6dog",
        "outputId": "14207839-70db-49fb-c845-9d8eea50a7e5"
      },
      "execution_count": null,
      "outputs": [
        {
          "output_type": "stream",
          "name": "stdout",
          "text": [
            "city 5\n",
            "city5\n"
          ]
        }
      ]
    },
    {
      "cell_type": "code",
      "source": [
        "a = 24\n",
        "b = 3\n",
        "print(\"a ={}, b ={}\".format(a,b))"
      ],
      "metadata": {
        "colab": {
          "base_uri": "https://localhost:8080/"
        },
        "id": "ol5d9vgn7ljG",
        "outputId": "7c42e391-5aaa-4fab-ec16-6b6efb3ac53f"
      },
      "execution_count": null,
      "outputs": [
        {
          "output_type": "stream",
          "name": "stdout",
          "text": [
            "a =24, b =3\n"
          ]
        }
      ]
    },
    {
      "cell_type": "code",
      "source": [
        "#Arithmatic Operations\n",
        "a = 24\n",
        "b = 3\n",
        "print(a+b)\n",
        "print(a-b)\n",
        "print(a*b)\n",
        "print(a/b)\n",
        "print(a%b)\n",
        "print(a//b)\n",
        "print(a**b)"
      ],
      "metadata": {
        "colab": {
          "base_uri": "https://localhost:8080/"
        },
        "id": "CKalgJcG7CAg",
        "outputId": "d8fe95d6-ca4f-49c6-c353-df1ce635e5e5"
      },
      "execution_count": null,
      "outputs": [
        {
          "output_type": "stream",
          "name": "stdout",
          "text": [
            "27\n",
            "21\n",
            "72\n",
            "8.0\n",
            "0\n",
            "8\n",
            "13824\n"
          ]
        }
      ]
    },
    {
      "cell_type": "code",
      "source": [
        "#Indexing & Slicing\n",
        "a = \"pineapple\"\n",
        "\n",
        "print(a[0:4])\n",
        "print(a[4:9])"
      ],
      "metadata": {
        "colab": {
          "base_uri": "https://localhost:8080/"
        },
        "id": "rxfvGvMJ7kkY",
        "outputId": "56b96cfa-7ff6-47dc-e27e-5952a882374d"
      },
      "execution_count": null,
      "outputs": [
        {
          "output_type": "stream",
          "name": "stdout",
          "text": [
            "pine\n",
            "apple\n"
          ]
        }
      ]
    },
    {
      "cell_type": "code",
      "source": [
        "# Input Output\n",
        "i = input(\"Enter the number :\")\n",
        "print(i)\n",
        "print(type(i))"
      ],
      "metadata": {
        "colab": {
          "base_uri": "https://localhost:8080/"
        },
        "id": "5c-Zus6U8WcY",
        "outputId": "77c9e939-741b-47a8-eb98-7ef575dff7c1"
      },
      "execution_count": null,
      "outputs": [
        {
          "output_type": "stream",
          "name": "stdout",
          "text": [
            "Enter the number :Manoj'\n",
            "Manoj'\n",
            "<class 'str'>\n"
          ]
        }
      ]
    },
    {
      "cell_type": "code",
      "source": [
        "print(\"Please enter value: \")\n",
        "i= input()\n",
        "print(\"Hello , You have entered : \",i)\n",
        "print(type(i))"
      ],
      "metadata": {
        "colab": {
          "base_uri": "https://localhost:8080/"
        },
        "id": "gYz_5p1t9KkP",
        "outputId": "922711a7-f6c1-4d2d-a1a5-1a35d37f63ce"
      },
      "execution_count": null,
      "outputs": [
        {
          "output_type": "stream",
          "name": "stdout",
          "text": [
            "Please enter value: \n",
            "40\n",
            "Hello , You have entered :  40\n",
            "<class 'str'>\n"
          ]
        }
      ]
    },
    {
      "cell_type": "code",
      "source": [
        "#Math Function\n",
        "import math\n",
        "x = 2\n",
        "y = 5.32167\n",
        "\n",
        "print(\"maximum number :\", max(x,y))\n",
        "print(\"minmum number :\", min(x,y))\n"
      ],
      "metadata": {
        "colab": {
          "base_uri": "https://localhost:8080/"
        },
        "id": "Q-J5qJ2j8eet",
        "outputId": "f9a0298b-0687-41f4-d9ec-73b457ea94da"
      },
      "execution_count": null,
      "outputs": [
        {
          "output_type": "stream",
          "name": "stdout",
          "text": [
            "maximum number : 5.32167\n",
            "minmum number : 2\n"
          ]
        }
      ]
    },
    {
      "cell_type": "code",
      "source": [
        "#square and cube of x and store in a and b variable\n",
        "x = 3\n",
        "a = x ** 2\n",
        "b = x ** 3\n",
        "print(a)\n",
        "print(b)"
      ],
      "metadata": {
        "colab": {
          "base_uri": "https://localhost:8080/"
        },
        "id": "FBieDsqe_BXl",
        "outputId": "fe0e5692-0165-411f-8665-74c339121c7b"
      },
      "execution_count": null,
      "outputs": [
        {
          "output_type": "stream",
          "name": "stdout",
          "text": [
            "9\n",
            "27\n"
          ]
        }
      ]
    },
    {
      "cell_type": "code",
      "source": [
        "import math\n",
        "x = 10\n",
        "\n",
        "c = math.log(x)\n",
        "print(c)"
      ],
      "metadata": {
        "colab": {
          "base_uri": "https://localhost:8080/"
        },
        "id": "wTAKw2k7_ede",
        "outputId": "fc277282-df7d-4335-d4aa-21e713a5d02a"
      },
      "execution_count": null,
      "outputs": [
        {
          "output_type": "stream",
          "name": "stdout",
          "text": [
            "2.302585092994046\n"
          ]
        }
      ]
    },
    {
      "cell_type": "code",
      "source": [
        "#print minimum value between x,y,a, b and c\n",
        "x = 3\n",
        "y = 5.32167\n",
        "a = 9\n",
        "b = 27\n",
        "c = 2.3025\n",
        "\n",
        "print(min(x,y,a,b,c))\n",
        "\n",
        "#print maximum value between x,y,a, b and c\n",
        "print(max(x,y,a,b,c))\n"
      ],
      "metadata": {
        "colab": {
          "base_uri": "https://localhost:8080/"
        },
        "id": "tUy3BfJbAUAW",
        "outputId": "e3373c53-2106-48a5-a563-e0579850c2ea"
      },
      "execution_count": null,
      "outputs": [
        {
          "output_type": "stream",
          "name": "stdout",
          "text": [
            "2.3025\n",
            "27\n"
          ]
        }
      ]
    },
    {
      "cell_type": "code",
      "source": [
        "# Python Operator\n",
        "a = True\n",
        "b = False\n",
        "print(a)\n",
        "print(b)\n",
        "print(type(a))\n",
        "print(type(b))\n"
      ],
      "metadata": {
        "colab": {
          "base_uri": "https://localhost:8080/"
        },
        "id": "BALlll81BOZ3",
        "outputId": "15e6a67f-f5af-42bf-bba4-036587c82a4e"
      },
      "execution_count": null,
      "outputs": [
        {
          "output_type": "stream",
          "name": "stdout",
          "text": [
            "True\n",
            "False\n",
            "<class 'bool'>\n",
            "<class 'bool'>\n"
          ]
        }
      ]
    },
    {
      "cell_type": "code",
      "source": [
        "a = 1.9\n",
        "b = 0.7\n",
        "\n",
        "print(\"int of a is\", int(a))\n",
        "print(\"int of b is\", int(b))\n",
        "\n"
      ],
      "metadata": {
        "colab": {
          "base_uri": "https://localhost:8080/"
        },
        "id": "Cnu9BTB7BnPO",
        "outputId": "ce1e563c-cad7-4064-f14e-6ba8d7931239"
      },
      "execution_count": null,
      "outputs": [
        {
          "output_type": "stream",
          "name": "stdout",
          "text": [
            "int of a is 1\n",
            "int of b is 0\n"
          ]
        }
      ]
    },
    {
      "cell_type": "code",
      "source": [
        "a = True\n",
        "b = False\n",
        "\n",
        "print(not a)\n",
        "print(not b)\n",
        "print(a and b)\n",
        "print(a or b)\n",
        "print(a and not b)"
      ],
      "metadata": {
        "colab": {
          "base_uri": "https://localhost:8080/"
        },
        "id": "AuIb83gmCuq2",
        "outputId": "0c58cd20-1c7e-47c4-904f-6ad1ac4b9197"
      },
      "execution_count": null,
      "outputs": [
        {
          "output_type": "stream",
          "name": "stdout",
          "text": [
            "False\n",
            "True\n",
            "False\n",
            "True\n",
            "True\n"
          ]
        }
      ]
    },
    {
      "cell_type": "code",
      "source": [
        "#Data Structures Introduction\n",
        "L = [1,2,3,4,5]\n",
        "print(L)\n",
        "print(type(L))\n",
        "L1=['cat', 10.5,2]\n",
        "print(L1)"
      ],
      "metadata": {
        "colab": {
          "base_uri": "https://localhost:8080/"
        },
        "id": "p9CqpLxRDebf",
        "outputId": "84c2a69c-d773-4465-8dcb-3ed65fee4e96"
      },
      "execution_count": null,
      "outputs": [
        {
          "output_type": "stream",
          "name": "stdout",
          "text": [
            "[1, 2, 3, 4, 5]\n",
            "<class 'list'>\n",
            "['cat', 10.5, 2]\n"
          ]
        }
      ]
    },
    {
      "cell_type": "code",
      "source": [
        "#create list and try to access each element with indexing\n",
        "L2=[11,22,44,66]\n",
        "# print value at index 0\n",
        "print(L2[0])\n",
        "# print value at index 2\n",
        "print(L2[2])\n",
        "# print last item from the list\n",
        "print(L2[3])\n",
        "# print second last item from list using -2\n",
        "print(L2[-2])\n",
        "# print the length of list\n",
        "print(len(L2))\n",
        "\n",
        "# sort in ascending order and print l2\n",
        "\n",
        "L2.sort()\n",
        "print(L2)\n",
        "\n",
        "L2.sort(reverse=True)\n",
        "print(L2)"
      ],
      "metadata": {
        "colab": {
          "base_uri": "https://localhost:8080/"
        },
        "id": "Rv_eYtfSD7RM",
        "outputId": "51a3a2ab-1684-4676-c9cc-50c2db362ffd"
      },
      "execution_count": null,
      "outputs": [
        {
          "output_type": "stream",
          "name": "stdout",
          "text": [
            "11\n",
            "44\n",
            "66\n",
            "44\n",
            "4\n",
            "[11, 22, 44, 66]\n",
            "[66, 44, 22, 11]\n"
          ]
        }
      ]
    },
    {
      "cell_type": "code",
      "source": [
        "L2=[11,22,44,66]\n",
        "# add item 99 in list and print l2\n",
        "L2.append(99)\n",
        "print(L2)\n",
        "# insert item 500 in list at index 0\n",
        "L2.insert(0,500)\n",
        "print(L2)\n",
        "L2.remove(11)\n",
        "print(L2)\n",
        "#remove last element from the list using pop() method\n",
        "L.pop()\n",
        "print(L2)\n",
        "# remove item by value"
      ],
      "metadata": {
        "colab": {
          "base_uri": "https://localhost:8080/"
        },
        "id": "5Lkda1XbQwQi",
        "outputId": "c8c89700-ca6c-4461-cb55-ccdebb5695ce"
      },
      "execution_count": null,
      "outputs": [
        {
          "output_type": "stream",
          "name": "stdout",
          "text": [
            "[11, 22, 44, 66, 99]\n",
            "[500, 11, 22, 44, 66, 99]\n",
            "[500, 22, 44, 66, 99]\n"
          ]
        }
      ]
    },
    {
      "cell_type": "code",
      "source": [
        "#String value and operators\n",
        "X = \"Cat\"\n",
        "Y = \"Dog\"\n",
        "print(X)\n",
        "print(Y)\n",
        "#Print first character of both x and y.\n",
        "print(\"First character :\",X[0])\n",
        "print(\"First character :\",Y[0])\n",
        "\n",
        "#Print last character of both x and y.\n",
        "print(\"Last character:\", X[2])\n",
        "print(\"Last character:\", Y[2])\n",
        "\n",
        "#Print len of both x and y\n",
        "print(\"len of characters:\", len(X))\n",
        "print(\"len of characters:\", len(Y))\n",
        "#concatenate both x and y and store it in variable z and print z\n",
        "z = X + Y\n",
        "print(z)\n",
        "\n",
        "#check if x is part of z\n",
        "if X in z:\n",
        "  print(\"yes x is part of z\")\n",
        "else:\n",
        "  print(\"No x is not part of z\")"
      ],
      "metadata": {
        "id": "gHqvRaqMTjb_",
        "colab": {
          "base_uri": "https://localhost:8080/"
        },
        "outputId": "fb55df52-ff74-473b-86ba-696f55bc47c7"
      },
      "execution_count": 76,
      "outputs": [
        {
          "output_type": "stream",
          "name": "stdout",
          "text": [
            "Cat\n",
            "Dog\n",
            "First character : C\n",
            "First character : D\n",
            "Last character: t\n",
            "Last character: g\n",
            "len of characters: 3\n",
            "len of characters: 3\n",
            "CatDog\n",
            "yes x is part of z\n"
          ]
        }
      ]
    },
    {
      "cell_type": "code",
      "source": [
        "# Dealing with Sentences\n",
        "sent = \"I am flying to London\"\n",
        "print(sent)\n",
        "#Print length of the sentence\n",
        "print(len(sent))\n",
        "\n",
        "#Using list indexing, to print the word London\n",
        "print(sent[15:21])\n",
        "# Use .split to get list of individual words in the sentence\n",
        "print(sent.split())\n",
        "# Convert sentence in lower case\n",
        "print(sent.lower())\n",
        "# Convert sentence in upper case\n",
        "print(sent.upper())\n",
        "# Convert sentence in Camel case\n",
        "print(sent.capitalize())"
      ],
      "metadata": {
        "colab": {
          "base_uri": "https://localhost:8080/"
        },
        "id": "tCalpWcZjkhR",
        "outputId": "f977eeef-5d11-49f5-9e40-b9b4dad903d5"
      },
      "execution_count": 88,
      "outputs": [
        {
          "output_type": "stream",
          "name": "stdout",
          "text": [
            "I am flying to London\n",
            "21\n",
            "London\n",
            "['I', 'am', 'flying', 'to', 'London']\n",
            "i am flying to london\n",
            "I AM FLYING TO LONDON\n",
            "I am flying to london\n"
          ]
        }
      ]
    },
    {
      "cell_type": "code",
      "source": [
        "#Lets try to print two string with inserting new line and tab\n",
        "First_name=\"jack\"\n",
        "last_name=\"hills\"\n",
        "Full_name = First_name + \"\\t\" + last_name\n",
        "print(Full_name)\n",
        "Full_name_2= First_name + \"\\n\" + last_name\n",
        "print(Full_name_2)"
      ],
      "metadata": {
        "colab": {
          "base_uri": "https://localhost:8080/"
        },
        "id": "GtKpgqF1kV4_",
        "outputId": "ea000bb2-328d-4e72-8d56-8ff564cf837d"
      },
      "execution_count": 92,
      "outputs": [
        {
          "output_type": "stream",
          "name": "stdout",
          "text": [
            "jack\thills\n",
            "jack\n",
            "hills\n"
          ]
        }
      ]
    },
    {
      "cell_type": "code",
      "source": [
        "#Remove (Strip) white space from string\n",
        "s = ' This string contains white space. '\n",
        "print(s)\n",
        "# remove white space from both side.\n",
        "print(s.strip())\n",
        "# remove white space from left side.\n",
        "print(s.lstrip())\n",
        "# remove white space from right side.\n",
        "print(s.rstrip())\n",
        "\n",
        "#Print length and verify\n",
        "print(len(s))\n",
        "print(len(s.strip()))\n",
        "print(len(s.lstrip()))\n",
        "print(len(s.rstrip()))"
      ],
      "metadata": {
        "colab": {
          "base_uri": "https://localhost:8080/"
        },
        "id": "cwOaehfSmKQm",
        "outputId": "7e0eb323-8ca3-4fdc-c074-7eaf9a82a356"
      },
      "execution_count": 97,
      "outputs": [
        {
          "output_type": "stream",
          "name": "stdout",
          "text": [
            " This string contains white space. \n",
            "This string contains white space.\n",
            "This string contains white space. \n",
            " This string contains white space.\n",
            "35\n",
            "33\n",
            "34\n",
            "34\n"
          ]
        }
      ]
    },
    {
      "cell_type": "code",
      "source": [
        "#Loops and Iterations\n",
        "#Declare a variable x equal to a number of your choice.\n",
        "#your code here\n",
        "x = 3\n",
        "# add a number of your choice (mine is 3 :) )\n",
        "print(x)\n",
        "\n",
        "#Using an if statement, print whether x is zero, positive or negative.\n",
        "if x == 0:\n",
        "    print(\"0 is zero\")\n",
        "else:\n",
        "    print(\"0 not a zero\")"
      ],
      "metadata": {
        "colab": {
          "base_uri": "https://localhost:8080/"
        },
        "id": "WJRZm_Jen2yW",
        "outputId": "ebf28ea4-0bdc-40c3-dd46-55b468653ad2"
      },
      "execution_count": 100,
      "outputs": [
        {
          "output_type": "stream",
          "name": "stdout",
          "text": [
            "3\n",
            "0 not a zero\n"
          ]
        }
      ]
    },
    {
      "cell_type": "code",
      "source": [
        "#Loop Problem Statements in Python , Nested Loop Examples\n",
        "X = 'India','Israel','Canada'\n",
        "for S in X:\n",
        "    print(S)\n",
        "\n",
        "print(range(1,11))\n",
        "\n",
        "# Using For loop, print the table of 2.\n",
        "num = 2\n",
        "for i in range(1,11):\n",
        "    print(f\"{num} * {i} = {num * i}\")"
      ],
      "metadata": {
        "id": "DcDE5BrnqF8N"
      },
      "execution_count": null,
      "outputs": []
    },
    {
      "cell_type": "code",
      "source": [
        "#For a given list, x = [21, ‘hello,’cream’, 20,19,’village’], using for loop to iterate over the items and using - if statement print the items that are of type int\n",
        "x = [21, 'hello','cream', 20,19,'village']\n",
        "for i in x:\n",
        "    if type(i) == int:\n",
        "        print(i)"
      ],
      "metadata": {
        "id": "VFSCyOZiriWq"
      },
      "execution_count": null,
      "outputs": []
    },
    {
      "cell_type": "code",
      "source": [
        "#Using For loop, lets create a pattern.\n",
        "n = 3\n",
        "for i in range(n):\n",
        "  for j in range(n):\n",
        "    print(\"*\", end=\" \")"
      ],
      "metadata": {
        "colab": {
          "base_uri": "https://localhost:8080/"
        },
        "id": "R-vahPosrqKT",
        "outputId": "4e90d03d-0e7b-4264-9fa3-791b59a1e027"
      },
      "execution_count": 102,
      "outputs": [
        {
          "output_type": "stream",
          "name": "stdout",
          "text": [
            "* * * * * * * * * "
          ]
        }
      ]
    },
    {
      "cell_type": "code",
      "source": [
        "n = 5\n",
        "for i in range(n):\n",
        "  for j in range(i+1):\n",
        "    print(\"*\", end=\" \")\n",
        "  print()"
      ],
      "metadata": {
        "colab": {
          "base_uri": "https://localhost:8080/"
        },
        "id": "EpPMOYNrr7xk",
        "outputId": "e7e0cc08-620d-48b8-96d0-80599e89266f"
      },
      "execution_count": 104,
      "outputs": [
        {
          "output_type": "stream",
          "name": "stdout",
          "text": [
            "* \n",
            "* * \n",
            "* * * \n",
            "* * * * \n",
            "* * * * * \n"
          ]
        }
      ]
    },
    {
      "cell_type": "code",
      "source": [
        "#Lets remove duplicates from list names=['A','B','C','A','D','E','F','G','H','E','D']\n",
        "names=['A','B','C','A','D','E','F','G','H','E','D']\n",
        "d=''\n",
        "for name in names:\n",
        "  if name not in d:\n",
        "    d=d+name\n",
        "print(d)\n"
      ],
      "metadata": {
        "colab": {
          "base_uri": "https://localhost:8080/"
        },
        "id": "-pjzCtVSsJcU",
        "outputId": "1159317a-839d-4531-93fb-6703a47a1497"
      },
      "execution_count": 105,
      "outputs": [
        {
          "output_type": "stream",
          "name": "stdout",
          "text": [
            "ABCDEFGH\n"
          ]
        }
      ]
    },
    {
      "cell_type": "code",
      "source": [
        "# List Comprehensions\n",
        "names=['A','B','C','A','D','E','F','G','H','E','D']\n",
        "d=[]\n",
        "namelist=[name for name in names if name not in d and d.append(name) is None]\n",
        "print(namelist)"
      ],
      "metadata": {
        "colab": {
          "base_uri": "https://localhost:8080/"
        },
        "id": "nc31Rk7zsqEy",
        "outputId": "ebae4adb-f8af-45d6-d5a9-2bfe401a7643"
      },
      "execution_count": 109,
      "outputs": [
        {
          "output_type": "stream",
          "name": "stdout",
          "text": [
            "['A', 'B', 'C', 'D', 'E', 'F', 'G', 'H']\n"
          ]
        }
      ]
    },
    {
      "cell_type": "code",
      "source": [
        "#Using list comprehension, create a list containing numbers from 1 to 20.\n",
        "list = [name for name in range(1, 21)]\n",
        "print(list)"
      ],
      "metadata": {
        "colab": {
          "base_uri": "https://localhost:8080/"
        },
        "id": "RwPKcFxPvKOW",
        "outputId": "0a7775c2-60e0-4106-d1d5-00a5a1298864"
      },
      "execution_count": 110,
      "outputs": [
        {
          "output_type": "stream",
          "name": "stdout",
          "text": [
            "[1, 2, 3, 4, 5, 6, 7, 8, 9, 10, 11, 12, 13, 14, 15, 16, 17, 18, 19, 20]\n"
          ]
        }
      ]
    },
    {
      "cell_type": "code",
      "source": [
        "# Using list comprehension, create a list containing numbers from 1 to 20 that are even\n",
        "\n",
        "even_numbers=[num for num in range(0,21) if num % 2 == 0]\n",
        "print(even_numbers)"
      ],
      "metadata": {
        "colab": {
          "base_uri": "https://localhost:8080/"
        },
        "id": "nZif88JsvMxT",
        "outputId": "92bb557d-689c-429b-8e49-4eee0ec1c13f"
      },
      "execution_count": 111,
      "outputs": [
        {
          "output_type": "stream",
          "name": "stdout",
          "text": [
            "[0, 2, 4, 6, 8, 10, 12, 14, 16, 18, 20]\n"
          ]
        }
      ]
    },
    {
      "cell_type": "code",
      "source": [
        "#Create a list of all the fruits you like. Using list comprehension, create another list which contains the total number of charachters for each corresponding fruits.\n",
        "fruits = ['apple','kiwi','orange']\n",
        "lengths = [len(i) for i in fruits]\n",
        "print(lengths)"
      ],
      "metadata": {
        "colab": {
          "base_uri": "https://localhost:8080/"
        },
        "id": "RKRPfjzdvv8q",
        "outputId": "625ece66-bb06-4d7f-8471-13c290f3a4b8"
      },
      "execution_count": 115,
      "outputs": [
        {
          "output_type": "stream",
          "name": "stdout",
          "text": [
            "[5, 4, 6]\n"
          ]
        }
      ]
    },
    {
      "cell_type": "code",
      "source": [
        "# Set a variable flag = True, num = 5\n",
        "# Run a while loop till flag = True\n",
        "# Inside the while loop -\n",
        "# Increment the value of num by 5\n",
        "# If value of num is greater then 50, set flag to be False\n",
        "flag = True\n",
        "num = 5\n",
        "while flag:\n",
        "  num += 5\n",
        "  print(num)\n",
        "  if  num > 50:\n",
        "    flag = False\n"
      ],
      "metadata": {
        "colab": {
          "base_uri": "https://localhost:8080/"
        },
        "id": "a57wSa_myMRz",
        "outputId": "c81685d3-00da-436d-adbd-e9eb8a306f6e"
      },
      "execution_count": 118,
      "outputs": [
        {
          "output_type": "stream",
          "name": "stdout",
          "text": [
            "10\n",
            "15\n",
            "20\n",
            "25\n",
            "30\n",
            "35\n",
            "40\n",
            "45\n",
            "50\n",
            "55\n"
          ]
        }
      ]
    },
    {
      "cell_type": "code",
      "source": [
        "# Functions\n",
        "def square(x):\n",
        "  num=x**2\n",
        "  return num\n",
        "\n",
        "print(square(9))"
      ],
      "metadata": {
        "colab": {
          "base_uri": "https://localhost:8080/"
        },
        "id": "wPncYMGNy33n",
        "outputId": "6ff0f118-f669-4222-bb5a-d406710bca19"
      },
      "execution_count": 122,
      "outputs": [
        {
          "output_type": "stream",
          "name": "stdout",
          "text": [
            "81\n"
          ]
        }
      ]
    },
    {
      "cell_type": "code",
      "source": [
        "## find the square of 9 using the function square you have just created.\n"
      ],
      "metadata": {
        "id": "kmmv1OEvzSAD"
      },
      "execution_count": null,
      "outputs": []
    },
    {
      "cell_type": "code",
      "source": [
        "#Define another function which checks whether a given is number is odd or even for a given input and it should print whether the number is odd or even as an output\n",
        "def check_odd_even(num):\n",
        "    if num % 2 == 0:\n",
        "        print(\"Even\")\n",
        "    else:\n",
        "        print(\"Odd\")\n",
        "print(check_odd_even(3))\n",
        "print(check_odd_even(6))\n",
        "print(check_odd_even(21))"
      ],
      "metadata": {
        "colab": {
          "base_uri": "https://localhost:8080/"
        },
        "id": "rxDoJYjizXnX",
        "outputId": "0fc0c7e9-2b49-4c6f-d6b1-a4d6d1b56530"
      },
      "execution_count": 129,
      "outputs": [
        {
          "output_type": "stream",
          "name": "stdout",
          "text": [
            "Odd\n",
            "None\n",
            "Even\n",
            "None\n",
            "Odd\n",
            "None\n"
          ]
        }
      ]
    },
    {
      "cell_type": "code",
      "source": [
        "#define a funtion 'occurence' which takes 2 inputs, one list 'lst' and another one a number 'n' and count the number of occurrences of n in your list lst.\n",
        "def occurrence(lst, n):\n",
        "    count = lst.count(n)\n",
        "    return count\n",
        "\n",
        "my_list = [1, 2, 2, 3, 4, 2]\n",
        "print(occurrence(my_list, 2))"
      ],
      "metadata": {
        "colab": {
          "base_uri": "https://localhost:8080/"
        },
        "id": "31QdtUbL1B6u",
        "outputId": "a0d79760-38d7-4c5e-9014-b4c386f6f248"
      },
      "execution_count": 136,
      "outputs": [
        {
          "output_type": "stream",
          "name": "stdout",
          "text": [
            "3\n"
          ]
        }
      ]
    },
    {
      "cell_type": "code",
      "source": [
        "# find the square of 9 using the function square you have just created.\n",
        "def square(x):\n",
        "  return x ** 2\n",
        "\n",
        "print(square(9))"
      ],
      "metadata": {
        "colab": {
          "base_uri": "https://localhost:8080/"
        },
        "id": "8NdckDkH6lB_",
        "outputId": "b2581490-e761-4e08-85b6-75b9dd7a092d"
      },
      "execution_count": 137,
      "outputs": [
        {
          "output_type": "stream",
          "name": "stdout",
          "text": [
            "81\n"
          ]
        }
      ]
    },
    {
      "cell_type": "code",
      "source": [
        "#Using while loop make a function that prints all the values between 1 to n.\n",
        "def print_values(n):\n",
        "  i = 1\n",
        "  while i <= n:\n",
        "    print(i)\n",
        "    i+=1\n",
        "\n",
        "print_values(10)"
      ],
      "metadata": {
        "colab": {
          "base_uri": "https://localhost:8080/"
        },
        "id": "tbvCrC2h7dIn",
        "outputId": "2a356a89-7239-4711-a5d8-e767e634f1f3"
      },
      "execution_count": 138,
      "outputs": [
        {
          "output_type": "stream",
          "name": "stdout",
          "text": [
            "1\n",
            "2\n",
            "3\n",
            "4\n",
            "5\n",
            "6\n",
            "7\n",
            "8\n",
            "9\n",
            "10\n"
          ]
        }
      ]
    },
    {
      "cell_type": "code",
      "source": [
        "# Now Define a function, which takes input from the user and prints whether the given input\n",
        "def check_num(x):\n",
        "  num = int(input('Enter a number :'))\n",
        "  if num == 0:\n",
        "    print('it a zero')\n",
        "  elif num > 0 :\n",
        "    print('number is positive')\n",
        "  else:\n",
        "    print('number is negative')\n",
        "print(check_num(num))"
      ],
      "metadata": {
        "colab": {
          "base_uri": "https://localhost:8080/"
        },
        "id": "032w-L6y8Bgd",
        "outputId": "196ffec4-72f4-4241-bd85-b21788f68e8e"
      },
      "execution_count": 142,
      "outputs": [
        {
          "output_type": "stream",
          "name": "stdout",
          "text": [
            "Enter a number :0\n",
            "it a zero\n",
            "None\n"
          ]
        }
      ]
    }
  ]
}